{
 "cells": [
  {
   "cell_type": "code",
   "execution_count": 613,
   "metadata": {},
   "outputs": [
    {
     "name": "stdout",
     "output_type": "stream",
     "text": [
      "Requirement already satisfied: spotipy in /opt/conda/lib/python3.8/site-packages (2.17.1)\n",
      "Requirement already satisfied: urllib3>=1.26.0 in /opt/conda/lib/python3.8/site-packages (from spotipy) (1.26.3)\n",
      "Requirement already satisfied: six>=1.15.0 in /opt/conda/lib/python3.8/site-packages (from spotipy) (1.15.0)\n",
      "Requirement already satisfied: requests>=2.25.0 in /opt/conda/lib/python3.8/site-packages (from spotipy) (2.25.1)\n",
      "Requirement already satisfied: chardet<5,>=3.0.2 in /opt/conda/lib/python3.8/site-packages (from requests>=2.25.0->spotipy) (4.0.0)\n",
      "Requirement already satisfied: idna<3,>=2.5 in /opt/conda/lib/python3.8/site-packages (from requests>=2.25.0->spotipy) (2.10)\n",
      "Requirement already satisfied: certifi>=2017.4.17 in /opt/conda/lib/python3.8/site-packages (from requests>=2.25.0->spotipy) (2020.12.5)\n",
      "Requirement already satisfied: geopandas in /opt/conda/lib/python3.8/site-packages (0.9.0)\n",
      "Requirement already satisfied: shapely>=1.6 in /opt/conda/lib/python3.8/site-packages (from geopandas) (1.7.1)\n",
      "Requirement already satisfied: pandas>=0.24.0 in /opt/conda/lib/python3.8/site-packages (from geopandas) (1.2.1)\n",
      "Requirement already satisfied: fiona>=1.8 in /opt/conda/lib/python3.8/site-packages (from geopandas) (1.8.18)\n",
      "Requirement already satisfied: pyproj>=2.2.0 in /opt/conda/lib/python3.8/site-packages (from geopandas) (3.0.1)\n",
      "Requirement already satisfied: click-plugins>=1.0 in /opt/conda/lib/python3.8/site-packages (from fiona>=1.8->geopandas) (1.1.1)\n",
      "Requirement already satisfied: cligj>=0.5 in /opt/conda/lib/python3.8/site-packages (from fiona>=1.8->geopandas) (0.7.1)\n",
      "Requirement already satisfied: certifi in /opt/conda/lib/python3.8/site-packages (from fiona>=1.8->geopandas) (2020.12.5)\n",
      "Requirement already satisfied: click<8,>=4.0 in /opt/conda/lib/python3.8/site-packages (from fiona>=1.8->geopandas) (7.1.2)\n",
      "Requirement already satisfied: attrs>=17 in /opt/conda/lib/python3.8/site-packages (from fiona>=1.8->geopandas) (20.3.0)\n",
      "Requirement already satisfied: munch in /opt/conda/lib/python3.8/site-packages (from fiona>=1.8->geopandas) (2.5.0)\n",
      "Requirement already satisfied: six>=1.7 in /opt/conda/lib/python3.8/site-packages (from fiona>=1.8->geopandas) (1.15.0)\n",
      "Requirement already satisfied: python-dateutil>=2.7.3 in /opt/conda/lib/python3.8/site-packages (from pandas>=0.24.0->geopandas) (2.8.1)\n",
      "Requirement already satisfied: pytz>=2017.3 in /opt/conda/lib/python3.8/site-packages (from pandas>=0.24.0->geopandas) (2021.1)\n",
      "Requirement already satisfied: numpy>=1.16.5 in /opt/conda/lib/python3.8/site-packages (from pandas>=0.24.0->geopandas) (1.20.0)\n",
      "Requirement already satisfied: geopy in /opt/conda/lib/python3.8/site-packages (2.1.0)\n",
      "Requirement already satisfied: geographiclib<2,>=1.49 in /opt/conda/lib/python3.8/site-packages (from geopy) (1.50)\n",
      "Requirement already satisfied: requests in /opt/conda/lib/python3.8/site-packages (2.25.1)\n",
      "Requirement already satisfied: idna<3,>=2.5 in /opt/conda/lib/python3.8/site-packages (from requests) (2.10)\n",
      "Requirement already satisfied: certifi>=2017.4.17 in /opt/conda/lib/python3.8/site-packages (from requests) (2020.12.5)\n",
      "Requirement already satisfied: chardet<5,>=3.0.2 in /opt/conda/lib/python3.8/site-packages (from requests) (4.0.0)\n",
      "Requirement already satisfied: urllib3<1.27,>=1.21.1 in /opt/conda/lib/python3.8/site-packages (from requests) (1.26.3)\n",
      "Requirement already satisfied: lxml in /opt/conda/lib/python3.8/site-packages (4.6.3)\n",
      "Requirement already satisfied: pandas in /opt/conda/lib/python3.8/site-packages (1.2.1)\n",
      "Requirement already satisfied: python-dateutil>=2.7.3 in /opt/conda/lib/python3.8/site-packages (from pandas) (2.8.1)\n",
      "Requirement already satisfied: pytz>=2017.3 in /opt/conda/lib/python3.8/site-packages (from pandas) (2021.1)\n",
      "Requirement already satisfied: numpy>=1.16.5 in /opt/conda/lib/python3.8/site-packages (from pandas) (1.20.0)\n",
      "Requirement already satisfied: six>=1.5 in /opt/conda/lib/python3.8/site-packages (from python-dateutil>=2.7.3->pandas) (1.15.0)\n",
      "Requirement already satisfied: numpy in /opt/conda/lib/python3.8/site-packages (1.20.0)\n",
      "Requirement already satisfied: gmplot in /opt/conda/lib/python3.8/site-packages (1.4.1)\n",
      "Requirement already satisfied: requests in /opt/conda/lib/python3.8/site-packages (from gmplot) (2.25.1)\n",
      "Requirement already satisfied: chardet<5,>=3.0.2 in /opt/conda/lib/python3.8/site-packages (from requests->gmplot) (4.0.0)\n",
      "Requirement already satisfied: certifi>=2017.4.17 in /opt/conda/lib/python3.8/site-packages (from requests->gmplot) (2020.12.5)\n",
      "Requirement already satisfied: idna<3,>=2.5 in /opt/conda/lib/python3.8/site-packages (from requests->gmplot) (2.10)\n",
      "Requirement already satisfied: urllib3<1.27,>=1.21.1 in /opt/conda/lib/python3.8/site-packages (from requests->gmplot) (1.26.3)\n"
     ]
    }
   ],
   "source": [
    "!pip install spotipy\n",
    "!pip install geopandas\n",
    "!pip install geopy\n",
    "!pip install requests\n",
    "!pip install lxml\n",
    "!pip install pandas\n",
    "!pip install numpy\n",
    "!pip install gmplot"
   ]
  },
  {
   "cell_type": "code",
   "execution_count": 614,
   "metadata": {},
   "outputs": [],
   "source": [
    "import requests\n",
    "import spotipy\n",
    "import geopandas\n",
    "import geopy\n",
    "from spotipy.oauth2 import SpotifyClientCredentials \n",
    "import requests\n",
    "from lxml import html\n",
    "import re\n",
    "import pandas as pd\n",
    "import numpy as np\n",
    "import math\n",
    "from geopy.geocoders import Nominatim"
   ]
  },
  {
   "cell_type": "markdown",
   "metadata": {},
   "source": [
    "## Spotify Scraper"
   ]
  },
  {
   "cell_type": "markdown",
   "metadata": {},
   "source": [
    "### Connect to Spotify API"
   ]
  },
  {
   "cell_type": "code",
   "execution_count": 615,
   "metadata": {},
   "outputs": [],
   "source": [
    "client_id = '693faf0bce4f4fb0aa5fc5d8b3cc0b25'\n",
    "client_secret = 'c2ab38a172f44774a0cfae1d7734130f'\n",
    "client_credentials_manager = SpotifyClientCredentials(client_id=client_id, client_secret=client_secret)\n",
    "sp = spotipy.Spotify(client_credentials_manager=client_credentials_manager) "
   ]
  },
  {
   "cell_type": "markdown",
   "metadata": {},
   "source": [
    "### Scraper Functions\n",
    "get_artistID_by_artistName - check for reliability, better search"
   ]
  },
  {
   "cell_type": "code",
   "execution_count": 616,
   "metadata": {},
   "outputs": [],
   "source": [
    "#not deemed reliable yet\n",
    "def get_artistID_by_artistName(artistName):\n",
    "        artist = sp.search(q=artistName, type=\"artist\")\n",
    "        #print(artist)\n",
    "        artistObject = artist['artists']['items']\n",
    "        if len(artistObject) == 0:\n",
    "            return \"NOT IN SPOTIFY\"\n",
    "        else:\n",
    "            artistID = artistObject[0]['id']\n",
    "            #print('AID: ', artistID)\n",
    "            return artistID;\n",
    "\n",
    "def get_genre(artistID):\n",
    "    #navigate to artist\n",
    "    artist = sp.artist(artistID)\n",
    "    #Obtain genre\n",
    "    genres = artist['genres']\n",
    "    if len(genres) == 0:\n",
    "        return 'NONE'\n",
    "    else:\n",
    "        return genres\n",
    "\n",
    "def get_followers(artistID):\n",
    "    #navigate to artist\n",
    "    artist = sp.artist(artistID)\n",
    "    #Obtain follower count\n",
    "    followers = int(artist['followers']['total'])\n",
    "    return followers\n",
    "\n",
    "def get_monthlyListeners(artistID):\n",
    "    r = requests.get('https://open.spotify.com/artist/{}'.format(artistID), timeout=10)\n",
    "    match = re.search(r'Monthly Listeners', r.text)\n",
    "    print(r.text)\n",
    "    #get monthly listeners starting point\n",
    "    string = r.text[match.start():]\n",
    "    #split at colon\n",
    "    strings = string.split(':')\n",
    "    strings1 = strings[1].split(',')\n",
    "    monthlyListeners = strings1[0].split(\",\")\n",
    "    #grab second string\n",
    "    return int(monthlyListeners[0].lstrip())\n",
    "\n",
    "def get_cities(artistID):\n",
    "    r = requests.get('https://open.spotify.com/artist/{}'.format(artistID), timeout=10)\n",
    "    match = re.search(r'Where People Listen', r.text)\n",
    "    #get where people listen starting point\n",
    "    string = r.text[match.start():]\n",
    "    #split at colon\n",
    "    strings = string.split(':')\n",
    "    strings1 = strings[1].split('\"')\n",
    "    cities = strings1[0].split(\",\")\n",
    "    #grab second string\n",
    "    return cities"
   ]
  },
  {
   "cell_type": "markdown",
   "metadata": {},
   "source": [
    "## Songkick Scraper"
   ]
  },
  {
   "cell_type": "markdown",
   "metadata": {},
   "source": [
    "### Connect to Songkick API"
   ]
  },
  {
   "cell_type": "code",
   "execution_count": 617,
   "metadata": {},
   "outputs": [],
   "source": [
    "# Define API Key\n",
    "api_key = \"FYSeGSNlg6HXIfAr\""
   ]
  },
  {
   "cell_type": "markdown",
   "metadata": {},
   "source": [
    "### Scraper Functions\n",
    "\n",
    "get_venueArtists: add in festival/lineup capabilities\n",
    "\n",
    "get_venueGenres: clean up mapping\n",
    "\n",
    "get_venueSize: Decide how to use followers/listeners, fix metric (within the 30-60 percentile?), regression using Songkick Venue Capacity?"
   ]
  },
  {
   "cell_type": "code",
   "execution_count": 618,
   "metadata": {},
   "outputs": [],
   "source": [
    "def get_venueArtists(metroID):\n",
    "    # request json\n",
    "    r = requests.get(\"https://api.songkick.com/api/3.0/metro_areas/\"+ str(metroID) +\"/calendar.json?apikey=\" + str(api_key))\n",
    "    # parse for events\n",
    "    events = r.json()[\"resultsPage\"][\"results\"][\"event\"]\n",
    "    # define dictionary for storage\n",
    "    venue_artist_dict = {}\n",
    "    #loop through events\n",
    "    for i in range(len(events)):\n",
    "        # The artist\n",
    "        if events[i][\"performance\"] != []:\n",
    "            artist = events[i][\"performance\"][0][\"artist\"][\"displayName\"]\n",
    "        else:\n",
    "            artist = events[i][\"displayName\"]\n",
    "        # Venue Name\n",
    "        venue = events[i][\"venue\"][\"displayName\"]\n",
    "        venueID = events[i][\"venue\"][\"id\"]\n",
    "       # venueLat = events[i][\"venue\"][\"lat\"]\n",
    "        # venueLong = events[i][\"venue\"][\"lng\"]\n",
    "        # if the venue is not already in dict, add it with the artist as its value\n",
    "        if venue not in venue_artist_dict.keys():\n",
    "            venue_artist_dict[venue] = [artist]\n",
    "        # if it is in the dict, add the act to its \n",
    "        else:\n",
    "            if artist not in venue_artist_dict[venue]:\n",
    "                venue_artist_dict[venue].append(artist)\n",
    "    return venue_artist_dict\n",
    "\n",
    "def get_venueGenres(venue_artist_dict):\n",
    "    venue_genre_dict = {}\n",
    "    # loop through venues\n",
    "    for venue in venue_artist_dict.keys():\n",
    "        # loop through artists at each venue\n",
    "        genre_list = []\n",
    "        for artist in venue_artist_dict[venue]:\n",
    "            #get artist id\n",
    "            id_return = get_artistID_by_artistName(artist)\n",
    "            # if its too small of an artist, ignore it\n",
    "            if id_return == 'NOT IN SPOTIFY':\n",
    "                artist_genre = 'NONE'\n",
    "                # get the genre of artists in spotify\n",
    "            else:\n",
    "                artist_genre = get_genre(id_return)\n",
    "                print\n",
    "                mapped_genre=-1\n",
    "                # replace the genre with a code... NEED TO CLEAN UP\n",
    "                if any(\"funk\" in s for s in artist_genre):\n",
    "                    mapped_genre = 0\n",
    "                if any(\"rock\" in s for s in artist_genre):\n",
    "                    mapped_genre = 1 \n",
    "                if any(\"punk\" in s for s in artist_genre):\n",
    "                    mapped_genre = 1\n",
    "                if any(\"reggae\" in s for s in artist_genre):\n",
    "                    mapped_genre = 2\n",
    "                if any(\"r&b\" in s for s in artist_genre):\n",
    "                    mapped_genre = 3\n",
    "                if any(\"soul\" in s for s in artist_genre):\n",
    "                    mapped_genre = 3\n",
    "                if any(\"rap\" in s for s in artist_genre):\n",
    "                    mapped_genre = 4\n",
    "                if any(\"bounce\" in s for s in artist_genre):\n",
    "                    mapped_genre = 4\n",
    "                if any(\"pop\" in s for s in artist_genre):\n",
    "                    mapped_genre = 5\n",
    "                if any(\"jazz\" in s for s in artist_genre):\n",
    "                    mapped_genre = 6\n",
    "                if any(\"electronic\" in s for s in artist_genre):\n",
    "                    mapped_genre = 7\n",
    "                if any(\"indie\" in s for s in artist_genre):\n",
    "                    mapped_genre = 8\n",
    "                if any(\"country\" in s for s in artist_genre):\n",
    "                    mapped_genre = 9\n",
    "                if any(\"cajun\" in s for s in artist_genre):\n",
    "                    mapped_genre = 9\n",
    "                # add genre to list\n",
    "                genre_list.append(mapped_genre)\n",
    "        # assign genres to venue\n",
    "        venue_genre_dict[venue] = list(set([x for x in genre_list if x != -1]))\n",
    "    # return dictionary\n",
    "    return venue_genre_dict\n",
    "\n",
    "def get_venueSize(venue_artist_dict):\n",
    "    venue_size_dict = {}\n",
    "    # loop through venues\n",
    "    for venue in venue_artist_dict.keys():\n",
    "        # loop through artists at each venue\n",
    "        size_list = []\n",
    "        for artist in venue_artist_dict[venue]:\n",
    "            #get artist id\n",
    "            id_return = get_artistID_by_artistName(artist)\n",
    "            # if its too small of an artist, its size is basically 0\n",
    "            if id_return == 'NOT IN SPOTIFY':\n",
    "                size_list.append(0)\n",
    "            # get their followers\n",
    "            else:\n",
    "                artist_followers = get_followers(id_return)\n",
    "                size_list.append(artist_followers)\n",
    "        venue_size_dict[venue] = np.mean(np.array(size_list))\n",
    "    return venue_size_dict"
   ]
  },
  {
   "cell_type": "code",
   "execution_count": 619,
   "metadata": {},
   "outputs": [],
   "source": [
    "#get requested city id\n",
    "#example\n",
    "\n",
    "\n",
    "cityIDs = []\n",
    "def get_city_id(locations):\n",
    "    cityIDs = []\n",
    "    for i in range(len(locations)):\n",
    "        r = requests.get(\"https://api.songkick.com/api/3.0/search/locations.json?query=\" + locations[i] + \"&apikey=\" + str(api_key))\n",
    "        cityID = r.json()[\"resultsPage\"][\"results\"][\"location\"][0][\"metroArea\"][\"id\"]\n",
    "        cityIDs.append(cityID)\n",
    "    return cityIDs\n"
   ]
  },
  {
   "cell_type": "markdown",
   "metadata": {},
   "source": [
    "## Matching Functions\n",
    "Both: Need to figure out a way to clean it up\n"
   ]
  },
  {
   "cell_type": "code",
   "execution_count": 620,
   "metadata": {},
   "outputs": [],
   "source": [
    "#\n",
    "# FUNCTION TO ADD ELEMENTS TO DICT\n",
    "#\n",
    "def append_value(dict_obj, key, value):\n",
    "    if key in dict_obj:\n",
    "        if not isinstance(dict_obj[key], tuple):\n",
    "            dict_obj[key] = [dict_obj[key]]\n",
    "        dict_obj[key].append(value)\n",
    "    else:\n",
    "        dict_obj[key] = value\n",
    "\n",
    "#\n",
    "# GENRE MATCH FUNCTION\n",
    "# if artist genre identity is a match for venue genre, match (hard constraints)\n",
    "#\n",
    "\n",
    "def genre_match(d, genre_of):\n",
    "    #print('in genre check function')\n",
    "    genre_filtered_dictionary = {}\n",
    "\n",
    "    # iterate through artist's given constraints O(n)\n",
    "    for i in genre_of:\n",
    "        for key, value in d.items():\n",
    "            for j in value:\n",
    "                if i == j:\n",
    "                    append_value(genre_filtered_dictionary, key, value)\n",
    "                else:\n",
    "                    pass\n",
    "\n",
    "    return genre_filtered_dictionary\n",
    "\n",
    "def size_match(d,size_of):\n",
    "    perfect_match_dict={}\n",
    "    for key,value in d.items():\n",
    "        num=value\n",
    "        difference=abs(num-size_of)\n",
    "        per=difference/size_of\n",
    "        percentage1=1-per\n",
    "        if(percentage1>=.4):\n",
    "            perfect_match_dict[key]= round(percentage1, 2)\n",
    "            None\n",
    "    return perfect_match_dict"
   ]
  },
  {
   "cell_type": "markdown",
   "metadata": {},
   "source": [
    "## New Orleans Example"
   ]
  },
  {
   "cell_type": "code",
   "execution_count": 621,
   "metadata": {},
   "outputs": [],
   "source": [
    "#use names from class... THIS PART WILL BE CHANGED!\n",
    "\n",
    "names = [\"Taylor Swift\",\"Vampire Weekend\",\"The Doobie Brothers\", \"Greta Van Fleet\", \"Tank and the Bangas\", \"Lady Gaga\"]\n",
    "def create_df(names):\n",
    "    df = pd.DataFrame({\"band_name\": names})\n",
    "    df[\"id\"] = df.band_name.apply(get_artistID_by_artistName)\n",
    "    df[\"genre\"] = df.id.apply(get_genre)\n",
    "    #df[\"listeners\"] = df.id.apply(get_monthlyListeners)\n",
    "    df[\"followers\"] = df.id.apply(get_followers)\n",
    "    #pd.set_option(\"display.max_rows\", None, \"display.max_columns\", None, 'display.max_colwidth',None)\n",
    "    df['mapped_genre'] = [[] for _ in range(df.shape[0])]\n",
    "\n",
    "    for i in range(df.genre.size):\n",
    "        if any(\"funk\" in s for s in df.genre[i]):\n",
    "            df['mapped_genre'][i].append('0')\n",
    "\n",
    "        if any(\"rock\" in s for s in df.genre[i]):\n",
    "            df['mapped_genre'][i].append('1')\n",
    "\n",
    "        if any(\"punk\" in s for s in df.genre[i]):\n",
    "            df['mapped_genre'][i].append('1')\n",
    "\n",
    "        if any(\"reggae\" in s for s in df.genre[i]):\n",
    "            df['mapped_genre'][i].append('2')\n",
    "\n",
    "        if any(\"r&b\" in s for s in df.genre[i]):\n",
    "            df['mapped_genre'][i].append('3')\n",
    "\n",
    "        if any(\"rap\" in s for s in df.genre[i]):\n",
    "            df['mapped_genre'][i].append('4')\n",
    "\n",
    "        if any(\"pop\" in s for s in df.genre[i]):\n",
    "            df['mapped_genre'][i].append('5')\n",
    "\n",
    "        if any(\"jazz\" in s for s in df.genre[i]):\n",
    "            df['mapped_genre'][i].append('6')\n",
    "\n",
    "        if any(\"electronic\" in s for s in df.genre[i]):\n",
    "            df['mapped_genre'][i].append('7')\n",
    "\n",
    "        if any(\"indie\" in s for s in df.genre[i]):\n",
    "            df['mapped_genre'][i].append('8')\n",
    "\n",
    "        if any(\"country\" in s for s in df.genre[i]):\n",
    "            df['mapped_genre'][i].append('9')\n",
    "    return df\n",
    "df = create_df(names)"
   ]
  },
  {
   "cell_type": "code",
   "execution_count": 622,
   "metadata": {},
   "outputs": [
    {
     "data": {
      "text/html": [
       "<div>\n",
       "<style scoped>\n",
       "    .dataframe tbody tr th:only-of-type {\n",
       "        vertical-align: middle;\n",
       "    }\n",
       "\n",
       "    .dataframe tbody tr th {\n",
       "        vertical-align: top;\n",
       "    }\n",
       "\n",
       "    .dataframe thead th {\n",
       "        text-align: right;\n",
       "    }\n",
       "</style>\n",
       "<table border=\"1\" class=\"dataframe\">\n",
       "  <thead>\n",
       "    <tr style=\"text-align: right;\">\n",
       "      <th></th>\n",
       "      <th>Artist</th>\n",
       "      <th>Artist Genre</th>\n",
       "      <th>Artist Size</th>\n",
       "      <th>Genre Matches</th>\n",
       "      <th>Size Matches</th>\n",
       "      <th>Set</th>\n",
       "    </tr>\n",
       "  </thead>\n",
       "  <tbody>\n",
       "    <tr>\n",
       "      <th>0</th>\n",
       "      <td>Taylor Swift</td>\n",
       "      <td>[5]</td>\n",
       "      <td>38167131</td>\n",
       "      <td>{}</td>\n",
       "      <td>{}</td>\n",
       "      <td>NaN</td>\n",
       "    </tr>\n",
       "    <tr>\n",
       "      <th>1</th>\n",
       "      <td>Vampire Weekend</td>\n",
       "      <td>[1, 5, 8]</td>\n",
       "      <td>1703858</td>\n",
       "      <td>{'Smoothie King Center': [1], 'Gasa Gasa': [8]...</td>\n",
       "      <td>{'House of Blues - New Orleans presented by Cr...</td>\n",
       "      <td>NaN</td>\n",
       "    </tr>\n",
       "    <tr>\n",
       "      <th>2</th>\n",
       "      <td>The Doobie Brothers</td>\n",
       "      <td>[1, 9]</td>\n",
       "      <td>1507523</td>\n",
       "      <td>{'Smoothie King Center': [1], 'Music Box Villa...</td>\n",
       "      <td>{'House of Blues - New Orleans presented by Cr...</td>\n",
       "      <td>NaN</td>\n",
       "    </tr>\n",
       "    <tr>\n",
       "      <th>3</th>\n",
       "      <td>Greta Van Fleet</td>\n",
       "      <td>[1]</td>\n",
       "      <td>1390953</td>\n",
       "      <td>{'Smoothie King Center': [1]}</td>\n",
       "      <td>{'House of Blues - New Orleans presented by Cr...</td>\n",
       "      <td>NaN</td>\n",
       "    </tr>\n",
       "    <tr>\n",
       "      <th>4</th>\n",
       "      <td>Tank and the Bangas</td>\n",
       "      <td>[0, 8]</td>\n",
       "      <td>159625</td>\n",
       "      <td>{'The Howlin' Wolf': [0, 6], 'Broadside': [0],...</td>\n",
       "      <td>{'Music Box Village': 0.96}</td>\n",
       "      <td>NaN</td>\n",
       "    </tr>\n",
       "    <tr>\n",
       "      <th>5</th>\n",
       "      <td>Lady Gaga</td>\n",
       "      <td>[5]</td>\n",
       "      <td>16776635</td>\n",
       "      <td>{}</td>\n",
       "      <td>{}</td>\n",
       "      <td>NaN</td>\n",
       "    </tr>\n",
       "  </tbody>\n",
       "</table>\n",
       "</div>"
      ],
      "text/plain": [
       "                Artist Artist Genre Artist Size  \\\n",
       "0         Taylor Swift          [5]    38167131   \n",
       "1      Vampire Weekend    [1, 5, 8]     1703858   \n",
       "2  The Doobie Brothers       [1, 9]     1507523   \n",
       "3      Greta Van Fleet          [1]     1390953   \n",
       "4  Tank and the Bangas       [0, 8]      159625   \n",
       "5            Lady Gaga          [5]    16776635   \n",
       "\n",
       "                                       Genre Matches  \\\n",
       "0                                                 {}   \n",
       "1  {'Smoothie King Center': [1], 'Gasa Gasa': [8]...   \n",
       "2  {'Smoothie King Center': [1], 'Music Box Villa...   \n",
       "3                      {'Smoothie King Center': [1]}   \n",
       "4  {'The Howlin' Wolf': [0, 6], 'Broadside': [0],...   \n",
       "5                                                 {}   \n",
       "\n",
       "                                        Size Matches  Set  \n",
       "0                                                 {}  NaN  \n",
       "1  {'House of Blues - New Orleans presented by Cr...  NaN  \n",
       "2  {'House of Blues - New Orleans presented by Cr...  NaN  \n",
       "3  {'House of Blues - New Orleans presented by Cr...  NaN  \n",
       "4                        {'Music Box Village': 0.96}  NaN  \n",
       "5                                                 {}  NaN  "
      ]
     },
     "execution_count": 622,
     "metadata": {},
     "output_type": "execute_result"
    }
   ],
   "source": [
    "#\n",
    "# OUTPUT SECTION\n",
    "# change this portion when looking at different bands\n",
    "#\n",
    "cityID = \"11772\"\n",
    "def output_matching_df(cityID, df):\n",
    "    city = get_venueArtists(cityID)\n",
    "    city_venue_genres = get_venueGenres(city)\n",
    "    city_venue_sizes = get_venueSize(city)\n",
    "    column_names = [\"Artist\", \"Artist Genre\", \"Artist Size\", \"Genre Matches\", \"Size Matches\", \"Set\"]\n",
    "    output_df = pd.DataFrame(columns = column_names)\n",
    "\n",
    "    for i in range(0,len(df)):\n",
    "        #get artist genres\n",
    "        artist_genre = []\n",
    "        for j in range(0,len(df.mapped_genre[i])):\n",
    "            artist_genre.append(int(df.mapped_genre[i][j]))\n",
    "\n",
    "        #get artist size\n",
    "        artist_size = df.followers[i]\n",
    "\n",
    "        #calculate genre matches\n",
    "        genre_matches = genre_match(city_venue_genres ,artist_genre)\n",
    "\n",
    "\n",
    "        #calculate size matches\n",
    "        size_matches = size_match(city_venue_sizes ,artist_size)\n",
    "        output_df = output_df.append({'Artist':df.band_name[i],'Artist Genre':artist_genre,\n",
    "                                      'Artist Size':artist_size,'Genre Matches':genre_matches,\n",
    "                                      'Size Matches':size_matches}, ignore_index=True)\n",
    "\n",
    "    return output_df\n",
    "output_matching_df(cityID, df)"
   ]
  },
  {
   "cell_type": "markdown",
   "metadata": {},
   "source": [
    "### Traveling Salesperson Problem/Algorithm (TSP) - Example with Tank and the Bangas"
   ]
  },
  {
   "cell_type": "markdown",
   "metadata": {},
   "source": [
    "#### Get latitude and longitude of each venue recommend by genre match"
   ]
  },
  {
   "cell_type": "code",
   "execution_count": 623,
   "metadata": {},
   "outputs": [
    {
     "data": {
      "text/plain": [
       "{\"The Howlin' Wolf\": [0, 6],\n",
       " 'Broadside': [0],\n",
       " 'Joy Theater': [0],\n",
       " 'Gasa Gasa': [8],\n",
       " \"Tipitina's\": [8]}"
      ]
     },
     "execution_count": 623,
     "metadata": {},
     "output_type": "execute_result"
    }
   ],
   "source": [
    "value = output_matching_df(cityID, df).iloc[4]['Genre Matches']\n",
    "value"
   ]
  },
  {
   "cell_type": "code",
   "execution_count": 624,
   "metadata": {},
   "outputs": [
    {
     "name": "stdout",
     "output_type": "stream",
     "text": [
      "The Howlin' Wolf\n",
      "Broadside\n",
      "Joy Theater\n",
      "Gasa Gasa\n",
      "Tipitina's\n"
     ]
    },
    {
     "data": {
      "text/html": [
       "<div>\n",
       "<style scoped>\n",
       "    .dataframe tbody tr th:only-of-type {\n",
       "        vertical-align: middle;\n",
       "    }\n",
       "\n",
       "    .dataframe tbody tr th {\n",
       "        vertical-align: top;\n",
       "    }\n",
       "\n",
       "    .dataframe thead th {\n",
       "        text-align: right;\n",
       "    }\n",
       "</style>\n",
       "<table border=\"1\" class=\"dataframe\">\n",
       "  <thead>\n",
       "    <tr style=\"text-align: right;\">\n",
       "      <th></th>\n",
       "      <th>Latitude</th>\n",
       "      <th>Longitude</th>\n",
       "    </tr>\n",
       "    <tr>\n",
       "      <th>Venue</th>\n",
       "      <th></th>\n",
       "      <th></th>\n",
       "    </tr>\n",
       "  </thead>\n",
       "  <tbody>\n",
       "    <tr>\n",
       "      <th>The Howlin' Wolf</th>\n",
       "      <td>29.94272</td>\n",
       "      <td>-90.066060</td>\n",
       "    </tr>\n",
       "    <tr>\n",
       "      <th>Broadside</th>\n",
       "      <td>29.96916</td>\n",
       "      <td>-90.083560</td>\n",
       "    </tr>\n",
       "    <tr>\n",
       "      <th>Joy Theater</th>\n",
       "      <td>29.95601</td>\n",
       "      <td>-90.073980</td>\n",
       "    </tr>\n",
       "    <tr>\n",
       "      <th>Gasa Gasa</th>\n",
       "      <td>29.93494</td>\n",
       "      <td>-90.107852</td>\n",
       "    </tr>\n",
       "    <tr>\n",
       "      <th>Tipitina's</th>\n",
       "      <td>29.91741</td>\n",
       "      <td>-90.100780</td>\n",
       "    </tr>\n",
       "  </tbody>\n",
       "</table>\n",
       "</div>"
      ],
      "text/plain": [
       "                  Latitude  Longitude\n",
       "Venue                                \n",
       "The Howlin' Wolf  29.94272 -90.066060\n",
       "Broadside         29.96916 -90.083560\n",
       "Joy Theater       29.95601 -90.073980\n",
       "Gasa Gasa         29.93494 -90.107852\n",
       "Tipitina's        29.91741 -90.100780"
      ]
     },
     "execution_count": 624,
     "metadata": {},
     "output_type": "execute_result"
    }
   ],
   "source": [
    "locations = [\"New Orleans, LA\"]\n",
    "def get_latLong(locations):\n",
    "    column_names = [\"Venue\", \"Latitude\", \"Longitude\"]\n",
    "    venue_info_df = pd.DataFrame(columns = column_names)\n",
    "    for i in range(len(locations)):\n",
    "        for key in value.keys():\n",
    "            print(key)\n",
    "            r = requests.get(\"https://api.songkick.com/api/3.0/search/venues.json?query={\"+ key + \"}&apikey=\" + str(api_key))\n",
    "            venueLat = r.json()['resultsPage']['results']['venue'][0]['lat']\n",
    "            venueLng = r.json()['resultsPage']['results']['venue'][0]['lng']\n",
    "            #not including venues that have no data for now\n",
    "            if(venueLat == None):\n",
    "                venueLat = None\n",
    "            else:\n",
    "                venue_info_df = venue_info_df.append({'Venue':key,'Latitude':venueLat,'Longitude':venueLng}, ignore_index=True)\n",
    "        venue_info_df = venue_info_df.set_index(\"Venue\")\n",
    "        return venue_info_df\n",
    "venue_info_df = get_latLong(locations)\n",
    "venue_info_df"
   ]
  },
  {
   "cell_type": "markdown",
   "metadata": {},
   "source": [
    "#### Get Lat and Long of Starting Point"
   ]
  },
  {
   "cell_type": "code",
   "execution_count": 625,
   "metadata": {},
   "outputs": [],
   "source": [
    "#not being used right now\n",
    "#starting point right now = first item in list\n",
    "startingPoint = \"4920 Freret St, New Orleans, LA 70115\"\n",
    "locator = Nominatim(user_agent=\"myGeocoder\")\n",
    "location = locator.geocode(startingPoint)\n",
    "startingLat = location.latitude\n",
    "startingLng =location.longitude"
   ]
  },
  {
   "cell_type": "markdown",
   "metadata": {},
   "source": [
    "#### Function to calculate distance between two venues based on lat and long"
   ]
  },
  {
   "cell_type": "code",
   "execution_count": 626,
   "metadata": {},
   "outputs": [],
   "source": [
    "\n",
    "def distance_on_earth(lat1, long1, lat2, long2, radius=6378.388):\n",
    "    \"\"\"\n",
    "    Compute distance between two points on earth specified by latitude/longitude.\n",
    "    The earth is assumed to be a perfect sphere of given radius. The radius defaults\n",
    "    to 6378.388 kilometers. To convert to miles, divide by 1.60934\n",
    "    \n",
    "    Reference\n",
    "    ---------\n",
    "    Adopted from John D. Cook's blog post: \n",
    "    http://www.johndcook.com/blog/python_longitude_latitude/\n",
    "    \"\"\"\n",
    "    # Convert latitude and longitude to spherical coordinates in radians.\n",
    "    degrees_to_radians = np.pi / 180.0\n",
    "\n",
    "    # phi = 90 - latitude\n",
    "    phi1 = (90.0 - lat1) * degrees_to_radians\n",
    "    phi2 = (90.0 - lat2) * degrees_to_radians\n",
    "\n",
    "    # theta = longitude\n",
    "    theta1 = long1 * degrees_to_radians\n",
    "    theta2 = long2 * degrees_to_radians\n",
    "         \n",
    "    # Compute spherical distance from spherical coordinates.     \n",
    "    cos = (np.sin(phi1) * np.sin(phi2)* np.cos(theta1 - theta2) + \n",
    "           np.cos(phi1) * np.cos(phi2))\n",
    "    arc = np.arccos(cos)\n",
    "    rv = arc * radius\n",
    "    return rv"
   ]
  },
  {
   "cell_type": "markdown",
   "metadata": {},
   "source": [
    "#### Get distances between each venue and create distance matrix"
   ]
  },
  {
   "cell_type": "code",
   "execution_count": 627,
   "metadata": {},
   "outputs": [],
   "source": [
    "mile_in_km = 1.60934\n",
    "distances = {}\n",
    "for i in range(len(venue_info_df.index)):\n",
    "    a = venue_info_df.index[i]\n",
    "    distances[a] = {}\n",
    "    for j in range(len(venue_info_df.index)):\n",
    "        b = venue_info_df.index[j]\n",
    "        if j == i:\n",
    "            distances[a][b] = 0.\n",
    "        elif j > i:\n",
    "            distances[a][b] = distance_on_earth(venue_info_df['Latitude'][a],\n",
    "                                                venue_info_df['Longitude'][a],\n",
    "                                                venue_info_df['Latitude'][b],\n",
    "                                                venue_info_df['Longitude'][b])\n",
    "        else:\n",
    "            distances[a][b] = distances[b][a]\n",
    "distances = (pd.DataFrame(distances)/mile_in_km)"
   ]
  },
  {
   "cell_type": "code",
   "execution_count": 628,
   "metadata": {},
   "outputs": [
    {
     "data": {
      "text/html": [
       "<div>\n",
       "<style scoped>\n",
       "    .dataframe tbody tr th:only-of-type {\n",
       "        vertical-align: middle;\n",
       "    }\n",
       "\n",
       "    .dataframe tbody tr th {\n",
       "        vertical-align: top;\n",
       "    }\n",
       "\n",
       "    .dataframe thead th {\n",
       "        text-align: right;\n",
       "    }\n",
       "</style>\n",
       "<table border=\"1\" class=\"dataframe\">\n",
       "  <thead>\n",
       "    <tr style=\"text-align: right;\">\n",
       "      <th></th>\n",
       "      <th>The Howlin' Wolf</th>\n",
       "      <th>Broadside</th>\n",
       "      <th>Joy Theater</th>\n",
       "      <th>Gasa Gasa</th>\n",
       "      <th>Tipitina's</th>\n",
       "    </tr>\n",
       "  </thead>\n",
       "  <tbody>\n",
       "    <tr>\n",
       "      <th>The Howlin' Wolf</th>\n",
       "      <td>0.000000</td>\n",
       "      <td>2.108338</td>\n",
       "      <td>1.034641</td>\n",
       "      <td>2.562274</td>\n",
       "      <td>2.719833</td>\n",
       "    </tr>\n",
       "    <tr>\n",
       "      <th>Broadside</th>\n",
       "      <td>2.108338</td>\n",
       "      <td>0.000000</td>\n",
       "      <td>1.075659</td>\n",
       "      <td>2.779019</td>\n",
       "      <td>3.725571</td>\n",
       "    </tr>\n",
       "    <tr>\n",
       "      <th>Joy Theater</th>\n",
       "      <td>1.034641</td>\n",
       "      <td>1.075659</td>\n",
       "      <td>0.000000</td>\n",
       "      <td>2.499222</td>\n",
       "      <td>3.116136</td>\n",
       "    </tr>\n",
       "    <tr>\n",
       "      <th>Gasa Gasa</th>\n",
       "      <td>2.562274</td>\n",
       "      <td>2.779019</td>\n",
       "      <td>2.499222</td>\n",
       "      <td>0.000000</td>\n",
       "      <td>1.284595</td>\n",
       "    </tr>\n",
       "    <tr>\n",
       "      <th>Tipitina's</th>\n",
       "      <td>2.719833</td>\n",
       "      <td>3.725571</td>\n",
       "      <td>3.116136</td>\n",
       "      <td>1.284595</td>\n",
       "      <td>0.000000</td>\n",
       "    </tr>\n",
       "  </tbody>\n",
       "</table>\n",
       "</div>"
      ],
      "text/plain": [
       "                  The Howlin' Wolf  Broadside  Joy Theater  Gasa Gasa  \\\n",
       "The Howlin' Wolf          0.000000   2.108338     1.034641   2.562274   \n",
       "Broadside                 2.108338   0.000000     1.075659   2.779019   \n",
       "Joy Theater               1.034641   1.075659     0.000000   2.499222   \n",
       "Gasa Gasa                 2.562274   2.779019     2.499222   0.000000   \n",
       "Tipitina's                2.719833   3.725571     3.116136   1.284595   \n",
       "\n",
       "                  Tipitina's  \n",
       "The Howlin' Wolf    2.719833  \n",
       "Broadside           3.725571  \n",
       "Joy Theater         3.116136  \n",
       "Gasa Gasa           1.284595  \n",
       "Tipitina's          0.000000  "
      ]
     },
     "execution_count": 628,
     "metadata": {},
     "output_type": "execute_result"
    }
   ],
   "source": [
    "distances"
   ]
  },
  {
   "cell_type": "code",
   "execution_count": 629,
   "metadata": {},
   "outputs": [
    {
     "name": "stdout",
     "output_type": "stream",
     "text": [
      "Requirement already satisfied: python-tsp in /opt/conda/lib/python3.8/site-packages (0.2.0)\r\n",
      "Requirement already satisfied: numpy<2.0.0,>=1.18.5 in /opt/conda/lib/python3.8/site-packages (from python-tsp) (1.20.0)\r\n"
     ]
    }
   ],
   "source": [
    "!pip install python-tsp"
   ]
  },
  {
   "cell_type": "markdown",
   "metadata": {},
   "source": [
    "#### Use python-tsp library to solve tsp with dynamic programming"
   ]
  },
  {
   "cell_type": "code",
   "execution_count": 630,
   "metadata": {},
   "outputs": [],
   "source": [
    "import numpy as np\n",
    "from python_tsp.distances import great_circle_distance_matrix\n",
    "from python_tsp.exact import solve_tsp_dynamic_programming\n",
    "\n",
    "arr = []\n",
    "for i in range(len(venue_info_df.index)):\n",
    "    arr.append([venue_info_df['Latitude'][venue_info_df.index][i],venue_info_df['Longitude'][venue_info_df.index][i]])\n",
    "sources = np.array(arr)"
   ]
  },
  {
   "cell_type": "code",
   "execution_count": 631,
   "metadata": {},
   "outputs": [],
   "source": [
    "distance_matrix = great_circle_distance_matrix(sources)"
   ]
  },
  {
   "cell_type": "code",
   "execution_count": 632,
   "metadata": {},
   "outputs": [
    {
     "data": {
      "text/plain": [
       "array([[   0.        , 3389.10198265, 1663.16122819, 4118.79321796,\n",
       "        4372.06550847],\n",
       "       [3389.10198265,    0.        , 1729.09606106, 4467.20550825,\n",
       "        5988.76594272],\n",
       "       [1663.16122819, 1729.09606106,    0.        , 4017.43856891,\n",
       "        5009.11436569],\n",
       "       [4118.79321796, 4467.20550825, 4017.43856891,    0.        ,\n",
       "        2064.95557159],\n",
       "       [4372.06550847, 5988.76594272, 5009.11436569, 2064.9555716 ,\n",
       "           0.        ]])"
      ]
     },
     "execution_count": 632,
     "metadata": {},
     "output_type": "execute_result"
    }
   ],
   "source": [
    "distance_matrix"
   ]
  },
  {
   "cell_type": "code",
   "execution_count": 633,
   "metadata": {},
   "outputs": [
    {
     "data": {
      "text/plain": [
       "14296.483877566476"
      ]
     },
     "execution_count": 633,
     "metadata": {},
     "output_type": "execute_result"
    }
   ],
   "source": [
    "permutation, distance = solve_tsp_dynamic_programming(distance_matrix)\n",
    "distance"
   ]
  },
  {
   "cell_type": "code",
   "execution_count": 634,
   "metadata": {},
   "outputs": [
    {
     "data": {
      "text/plain": [
       "8.885322484503714"
      ]
     },
     "execution_count": 634,
     "metadata": {},
     "output_type": "execute_result"
    }
   ],
   "source": [
    "#convert distance from km to miles\n",
    "distance = distance/1609\n",
    "distance"
   ]
  },
  {
   "cell_type": "code",
   "execution_count": 635,
   "metadata": {},
   "outputs": [
    {
     "data": {
      "text/plain": [
       "[0, 2, 1, 3, 4]"
      ]
     },
     "execution_count": 635,
     "metadata": {},
     "output_type": "execute_result"
    }
   ],
   "source": [
    "permutation"
   ]
  },
  {
   "cell_type": "code",
   "execution_count": 636,
   "metadata": {},
   "outputs": [],
   "source": [
    "s = pd.Series(permutation)"
   ]
  },
  {
   "cell_type": "code",
   "execution_count": 637,
   "metadata": {},
   "outputs": [],
   "source": [
    "mappingDict = {}\n",
    "for i in range(len(s)):\n",
    "    mappingDict[i] = venue_info_df.index[i]\n"
   ]
  },
  {
   "cell_type": "code",
   "execution_count": 638,
   "metadata": {},
   "outputs": [],
   "source": [
    "s = s.map(mappingDict)"
   ]
  },
  {
   "cell_type": "code",
   "execution_count": 639,
   "metadata": {
    "scrolled": true
   },
   "outputs": [],
   "source": [
    "optimalPath = s.tolist()"
   ]
  },
  {
   "cell_type": "markdown",
   "metadata": {},
   "source": [
    "### Men I Trust Optimal Tour Path in New Orleans"
   ]
  },
  {
   "cell_type": "markdown",
   "metadata": {},
   "source": [
    "##### optimal path"
   ]
  },
  {
   "cell_type": "code",
   "execution_count": 640,
   "metadata": {},
   "outputs": [
    {
     "data": {
      "text/plain": [
       "[\"The Howlin' Wolf\", 'Joy Theater', 'Broadside', 'Gasa Gasa', \"Tipitina's\"]"
      ]
     },
     "execution_count": 640,
     "metadata": {},
     "output_type": "execute_result"
    }
   ],
   "source": [
    "optimalPath"
   ]
  },
  {
   "cell_type": "markdown",
   "metadata": {},
   "source": [
    "##### total distance in miles"
   ]
  },
  {
   "cell_type": "code",
   "execution_count": 641,
   "metadata": {},
   "outputs": [
    {
     "data": {
      "text/plain": [
       "8.885322484503714"
      ]
     },
     "execution_count": 641,
     "metadata": {},
     "output_type": "execute_result"
    }
   ],
   "source": [
    "distance"
   ]
  },
  {
   "cell_type": "markdown",
   "metadata": {},
   "source": [
    "#### Function to call entire tour with option of multiple cities"
   ]
  },
  {
   "cell_type": "code",
   "execution_count": 642,
   "metadata": {},
   "outputs": [],
   "source": [
    "###FOLLOWING NEED TO BE INPUTTED BY USER\n",
    "#locations = [] can be one item or multiple\n",
    "#names = [] can be one item or multiple\n"
   ]
  },
  {
   "cell_type": "code",
   "execution_count": 645,
   "metadata": {},
   "outputs": [
    {
     "data": {
      "text/html": [
       "<div>\n",
       "<style scoped>\n",
       "    .dataframe tbody tr th:only-of-type {\n",
       "        vertical-align: middle;\n",
       "    }\n",
       "\n",
       "    .dataframe tbody tr th {\n",
       "        vertical-align: top;\n",
       "    }\n",
       "\n",
       "    .dataframe thead th {\n",
       "        text-align: right;\n",
       "    }\n",
       "</style>\n",
       "<table border=\"1\" class=\"dataframe\">\n",
       "  <thead>\n",
       "    <tr style=\"text-align: right;\">\n",
       "      <th></th>\n",
       "      <th>band_name</th>\n",
       "      <th>id</th>\n",
       "      <th>genre</th>\n",
       "      <th>followers</th>\n",
       "      <th>mapped_genre</th>\n",
       "    </tr>\n",
       "  </thead>\n",
       "  <tbody>\n",
       "    <tr>\n",
       "      <th>0</th>\n",
       "      <td>Vampire Weekend</td>\n",
       "      <td>5BvJzeQpmsdsFp4HGUYUEx</td>\n",
       "      <td>[baroque pop, indie pop, indie rock, modern ro...</td>\n",
       "      <td>1703858</td>\n",
       "      <td>[1, 5, 8]</td>\n",
       "    </tr>\n",
       "  </tbody>\n",
       "</table>\n",
       "</div>"
      ],
      "text/plain": [
       "         band_name                      id  \\\n",
       "0  Vampire Weekend  5BvJzeQpmsdsFp4HGUYUEx   \n",
       "\n",
       "                                               genre  followers mapped_genre  \n",
       "0  [baroque pop, indie pop, indie rock, modern ro...    1703858    [1, 5, 8]  "
      ]
     },
     "execution_count": 645,
     "metadata": {},
     "output_type": "execute_result"
    }
   ],
   "source": [
    "names = [\"Vampire Weekend\"]\n",
    "locations = [\"New York City, New York\", \"Los Angeles, CA\", \"Nashville, TN\"]\n",
    "df = create_df(names)\n",
    "df"
   ]
  },
  {
   "cell_type": "code",
   "execution_count": 647,
   "metadata": {},
   "outputs": [
    {
     "name": "stdout",
     "output_type": "stream",
     "text": [
      "7644\n"
     ]
    },
    {
     "data": {
      "text/html": [
       "<div>\n",
       "<style scoped>\n",
       "    .dataframe tbody tr th:only-of-type {\n",
       "        vertical-align: middle;\n",
       "    }\n",
       "\n",
       "    .dataframe tbody tr th {\n",
       "        vertical-align: top;\n",
       "    }\n",
       "\n",
       "    .dataframe thead th {\n",
       "        text-align: right;\n",
       "    }\n",
       "</style>\n",
       "<table border=\"1\" class=\"dataframe\">\n",
       "  <thead>\n",
       "    <tr style=\"text-align: right;\">\n",
       "      <th></th>\n",
       "      <th>Artist</th>\n",
       "      <th>Artist Genre</th>\n",
       "      <th>Artist Size</th>\n",
       "      <th>Genre Matches</th>\n",
       "      <th>Size Matches</th>\n",
       "      <th>Set</th>\n",
       "    </tr>\n",
       "  </thead>\n",
       "  <tbody>\n",
       "    <tr>\n",
       "      <th>0</th>\n",
       "      <td>Vampire Weekend</td>\n",
       "      <td>[1, 5, 8]</td>\n",
       "      <td>1703858</td>\n",
       "      <td>{'Brooklyn Bowl': [1], 'Regina's': [5], 'The H...</td>\n",
       "      <td>{}</td>\n",
       "      <td>NaN</td>\n",
       "    </tr>\n",
       "  </tbody>\n",
       "</table>\n",
       "</div>"
      ],
      "text/plain": [
       "            Artist Artist Genre Artist Size  \\\n",
       "0  Vampire Weekend    [1, 5, 8]     1703858   \n",
       "\n",
       "                                       Genre Matches Size Matches  Set  \n",
       "0  {'Brooklyn Bowl': [1], 'Regina's': [5], 'The H...           {}  NaN  "
      ]
     },
     "metadata": {},
     "output_type": "display_data"
    },
    {
     "name": "stdout",
     "output_type": "stream",
     "text": [
      "Brooklyn Bowl\n",
      "Regina's\n",
      "The Hall, Elsewhere\n",
      "Webster Hall\n",
      "City Winery\n",
      "The Vogel, Count Basie Center for the Arts\n",
      "Music Hall of Williamsburg\n",
      "Brooklyn Steel\n"
     ]
    },
    {
     "data": {
      "text/html": [
       "<div>\n",
       "<style scoped>\n",
       "    .dataframe tbody tr th:only-of-type {\n",
       "        vertical-align: middle;\n",
       "    }\n",
       "\n",
       "    .dataframe tbody tr th {\n",
       "        vertical-align: top;\n",
       "    }\n",
       "\n",
       "    .dataframe thead th {\n",
       "        text-align: right;\n",
       "    }\n",
       "</style>\n",
       "<table border=\"1\" class=\"dataframe\">\n",
       "  <thead>\n",
       "    <tr style=\"text-align: right;\">\n",
       "      <th></th>\n",
       "      <th>Latitude</th>\n",
       "      <th>Longitude</th>\n",
       "    </tr>\n",
       "    <tr>\n",
       "      <th>Venue</th>\n",
       "      <th></th>\n",
       "      <th></th>\n",
       "    </tr>\n",
       "  </thead>\n",
       "  <tbody>\n",
       "    <tr>\n",
       "      <th>Brooklyn Bowl</th>\n",
       "      <td>40.721880</td>\n",
       "      <td>-73.957390</td>\n",
       "    </tr>\n",
       "    <tr>\n",
       "      <th>Regina's</th>\n",
       "      <td>50.452155</td>\n",
       "      <td>-104.606591</td>\n",
       "    </tr>\n",
       "    <tr>\n",
       "      <th>The Hall, Elsewhere</th>\n",
       "      <td>40.709340</td>\n",
       "      <td>-73.923230</td>\n",
       "    </tr>\n",
       "    <tr>\n",
       "      <th>Webster Hall</th>\n",
       "      <td>40.731770</td>\n",
       "      <td>-73.989110</td>\n",
       "    </tr>\n",
       "    <tr>\n",
       "      <th>City Winery</th>\n",
       "      <td>40.743560</td>\n",
       "      <td>-74.010470</td>\n",
       "    </tr>\n",
       "    <tr>\n",
       "      <th>The Vogel, Count Basie Center for the Arts</th>\n",
       "      <td>40.347050</td>\n",
       "      <td>-74.064310</td>\n",
       "    </tr>\n",
       "    <tr>\n",
       "      <th>Music Hall of Williamsburg</th>\n",
       "      <td>40.719283</td>\n",
       "      <td>-73.961710</td>\n",
       "    </tr>\n",
       "    <tr>\n",
       "      <th>Brooklyn Steel</th>\n",
       "      <td>40.719360</td>\n",
       "      <td>-73.938780</td>\n",
       "    </tr>\n",
       "  </tbody>\n",
       "</table>\n",
       "</div>"
      ],
      "text/plain": [
       "                                             Latitude   Longitude\n",
       "Venue                                                            \n",
       "Brooklyn Bowl                               40.721880  -73.957390\n",
       "Regina's                                    50.452155 -104.606591\n",
       "The Hall, Elsewhere                         40.709340  -73.923230\n",
       "Webster Hall                                40.731770  -73.989110\n",
       "City Winery                                 40.743560  -74.010470\n",
       "The Vogel, Count Basie Center for the Arts  40.347050  -74.064310\n",
       "Music Hall of Williamsburg                  40.719283  -73.961710\n",
       "Brooklyn Steel                              40.719360  -73.938780"
      ]
     },
     "metadata": {},
     "output_type": "display_data"
    },
    {
     "name": "stdout",
     "output_type": "stream",
     "text": [
      "['Brooklyn Bowl', 'Brooklyn Steel', 'The Hall, Elsewhere', 'The Vogel, Count Basie Center for the Arts', \"Regina's\", 'City Winery', 'Webster Hall', 'Music Hall of Williamsburg']\n",
      "17835\n"
     ]
    },
    {
     "data": {
      "text/html": [
       "<div>\n",
       "<style scoped>\n",
       "    .dataframe tbody tr th:only-of-type {\n",
       "        vertical-align: middle;\n",
       "    }\n",
       "\n",
       "    .dataframe tbody tr th {\n",
       "        vertical-align: top;\n",
       "    }\n",
       "\n",
       "    .dataframe thead th {\n",
       "        text-align: right;\n",
       "    }\n",
       "</style>\n",
       "<table border=\"1\" class=\"dataframe\">\n",
       "  <thead>\n",
       "    <tr style=\"text-align: right;\">\n",
       "      <th></th>\n",
       "      <th>Artist</th>\n",
       "      <th>Artist Genre</th>\n",
       "      <th>Artist Size</th>\n",
       "      <th>Genre Matches</th>\n",
       "      <th>Size Matches</th>\n",
       "      <th>Set</th>\n",
       "    </tr>\n",
       "  </thead>\n",
       "  <tbody>\n",
       "    <tr>\n",
       "      <th>0</th>\n",
       "      <td>Vampire Weekend</td>\n",
       "      <td>[1, 5, 8]</td>\n",
       "      <td>1703858</td>\n",
       "      <td>{'City National Grove of Anaheim': [1], 'Unive...</td>\n",
       "      <td>{'The Wiltern': 0.53, 'The Forum': 0.83, 'Xalo...</td>\n",
       "      <td>NaN</td>\n",
       "    </tr>\n",
       "  </tbody>\n",
       "</table>\n",
       "</div>"
      ],
      "text/plain": [
       "            Artist Artist Genre Artist Size  \\\n",
       "0  Vampire Weekend    [1, 5, 8]     1703858   \n",
       "\n",
       "                                       Genre Matches  \\\n",
       "0  {'City National Grove of Anaheim': [1], 'Unive...   \n",
       "\n",
       "                                        Size Matches  Set  \n",
       "0  {'The Wiltern': 0.53, 'The Forum': 0.83, 'Xalo...  NaN  "
      ]
     },
     "metadata": {},
     "output_type": "display_data"
    },
    {
     "name": "stdout",
     "output_type": "stream",
     "text": [
      "City National Grove of Anaheim\n",
      "University of Riverside\n",
      "The Wiltern\n",
      "The Forum\n",
      "Riverside Municipal Auditorium\n",
      "A Stone's Throw Winery\n",
      "The Echo\n",
      "NOS Events Center\n",
      "Igloo Music Studios\n"
     ]
    },
    {
     "data": {
      "text/html": [
       "<div>\n",
       "<style scoped>\n",
       "    .dataframe tbody tr th:only-of-type {\n",
       "        vertical-align: middle;\n",
       "    }\n",
       "\n",
       "    .dataframe tbody tr th {\n",
       "        vertical-align: top;\n",
       "    }\n",
       "\n",
       "    .dataframe thead th {\n",
       "        text-align: right;\n",
       "    }\n",
       "</style>\n",
       "<table border=\"1\" class=\"dataframe\">\n",
       "  <thead>\n",
       "    <tr style=\"text-align: right;\">\n",
       "      <th></th>\n",
       "      <th>Latitude</th>\n",
       "      <th>Longitude</th>\n",
       "    </tr>\n",
       "    <tr>\n",
       "      <th>Venue</th>\n",
       "      <th></th>\n",
       "      <th></th>\n",
       "    </tr>\n",
       "  </thead>\n",
       "  <tbody>\n",
       "    <tr>\n",
       "      <th>City National Grove of Anaheim</th>\n",
       "      <td>33.803240</td>\n",
       "      <td>-117.885630</td>\n",
       "    </tr>\n",
       "    <tr>\n",
       "      <th>University of Riverside</th>\n",
       "      <td>33.975692</td>\n",
       "      <td>-117.331889</td>\n",
       "    </tr>\n",
       "    <tr>\n",
       "      <th>The Wiltern</th>\n",
       "      <td>34.061940</td>\n",
       "      <td>-118.308840</td>\n",
       "    </tr>\n",
       "    <tr>\n",
       "      <th>The Forum</th>\n",
       "      <td>51.131010</td>\n",
       "      <td>0.255587</td>\n",
       "    </tr>\n",
       "    <tr>\n",
       "      <th>Riverside Municipal Auditorium</th>\n",
       "      <td>33.981930</td>\n",
       "      <td>-117.371390</td>\n",
       "    </tr>\n",
       "    <tr>\n",
       "      <th>A Stone's Throw Winery</th>\n",
       "      <td>33.597430</td>\n",
       "      <td>-117.837000</td>\n",
       "    </tr>\n",
       "    <tr>\n",
       "      <th>The Echo</th>\n",
       "      <td>34.077730</td>\n",
       "      <td>-118.260110</td>\n",
       "    </tr>\n",
       "    <tr>\n",
       "      <th>NOS Events Center</th>\n",
       "      <td>34.089730</td>\n",
       "      <td>-117.294060</td>\n",
       "    </tr>\n",
       "  </tbody>\n",
       "</table>\n",
       "</div>"
      ],
      "text/plain": [
       "                                 Latitude   Longitude\n",
       "Venue                                                \n",
       "City National Grove of Anaheim  33.803240 -117.885630\n",
       "University of Riverside         33.975692 -117.331889\n",
       "The Wiltern                     34.061940 -118.308840\n",
       "The Forum                       51.131010    0.255587\n",
       "Riverside Municipal Auditorium  33.981930 -117.371390\n",
       "A Stone's Throw Winery          33.597430 -117.837000\n",
       "The Echo                        34.077730 -118.260110\n",
       "NOS Events Center               34.089730 -117.294060"
      ]
     },
     "metadata": {},
     "output_type": "display_data"
    },
    {
     "name": "stdout",
     "output_type": "stream",
     "text": [
      "['City National Grove of Anaheim', 'The Wiltern', 'The Echo', 'The Forum', 'NOS Events Center', 'University of Riverside', 'Riverside Municipal Auditorium', \"A Stone's Throw Winery\"]\n",
      "11104\n"
     ]
    },
    {
     "data": {
      "text/html": [
       "<div>\n",
       "<style scoped>\n",
       "    .dataframe tbody tr th:only-of-type {\n",
       "        vertical-align: middle;\n",
       "    }\n",
       "\n",
       "    .dataframe tbody tr th {\n",
       "        vertical-align: top;\n",
       "    }\n",
       "\n",
       "    .dataframe thead th {\n",
       "        text-align: right;\n",
       "    }\n",
       "</style>\n",
       "<table border=\"1\" class=\"dataframe\">\n",
       "  <thead>\n",
       "    <tr style=\"text-align: right;\">\n",
       "      <th></th>\n",
       "      <th>Artist</th>\n",
       "      <th>Artist Genre</th>\n",
       "      <th>Artist Size</th>\n",
       "      <th>Genre Matches</th>\n",
       "      <th>Size Matches</th>\n",
       "      <th>Set</th>\n",
       "    </tr>\n",
       "  </thead>\n",
       "  <tbody>\n",
       "    <tr>\n",
       "      <th>0</th>\n",
       "      <td>Vampire Weekend</td>\n",
       "      <td>[1, 5, 8]</td>\n",
       "      <td>1703858</td>\n",
       "      <td>{'Ridenour Rehearsal Studios': [1], 'The Basem...</td>\n",
       "      <td>{}</td>\n",
       "      <td>NaN</td>\n",
       "    </tr>\n",
       "  </tbody>\n",
       "</table>\n",
       "</div>"
      ],
      "text/plain": [
       "            Artist Artist Genre Artist Size  \\\n",
       "0  Vampire Weekend    [1, 5, 8]     1703858   \n",
       "\n",
       "                                       Genre Matches Size Matches  Set  \n",
       "0  {'Ridenour Rehearsal Studios': [1], 'The Basem...           {}  NaN  "
      ]
     },
     "metadata": {},
     "output_type": "display_data"
    },
    {
     "name": "stdout",
     "output_type": "stream",
     "text": [
      "Ridenour Rehearsal Studios\n",
      "The Basement East\n",
      "Exit In\n",
      "Ryman Auditorium\n"
     ]
    },
    {
     "data": {
      "text/html": [
       "<div>\n",
       "<style scoped>\n",
       "    .dataframe tbody tr th:only-of-type {\n",
       "        vertical-align: middle;\n",
       "    }\n",
       "\n",
       "    .dataframe tbody tr th {\n",
       "        vertical-align: top;\n",
       "    }\n",
       "\n",
       "    .dataframe thead th {\n",
       "        text-align: right;\n",
       "    }\n",
       "</style>\n",
       "<table border=\"1\" class=\"dataframe\">\n",
       "  <thead>\n",
       "    <tr style=\"text-align: right;\">\n",
       "      <th></th>\n",
       "      <th>Latitude</th>\n",
       "      <th>Longitude</th>\n",
       "    </tr>\n",
       "    <tr>\n",
       "      <th>Venue</th>\n",
       "      <th></th>\n",
       "      <th></th>\n",
       "    </tr>\n",
       "  </thead>\n",
       "  <tbody>\n",
       "    <tr>\n",
       "      <th>Ridenour Rehearsal Studios</th>\n",
       "      <td>35.83086</td>\n",
       "      <td>-86.39678</td>\n",
       "    </tr>\n",
       "    <tr>\n",
       "      <th>The Basement East</th>\n",
       "      <td>36.17564</td>\n",
       "      <td>-86.75565</td>\n",
       "    </tr>\n",
       "    <tr>\n",
       "      <th>Exit In</th>\n",
       "      <td>36.15133</td>\n",
       "      <td>-86.80426</td>\n",
       "    </tr>\n",
       "    <tr>\n",
       "      <th>Ryman Auditorium</th>\n",
       "      <td>36.16117</td>\n",
       "      <td>-86.77869</td>\n",
       "    </tr>\n",
       "  </tbody>\n",
       "</table>\n",
       "</div>"
      ],
      "text/plain": [
       "                            Latitude  Longitude\n",
       "Venue                                          \n",
       "Ridenour Rehearsal Studios  35.83086  -86.39678\n",
       "The Basement East           36.17564  -86.75565\n",
       "Exit In                     36.15133  -86.80426\n",
       "Ryman Auditorium            36.16117  -86.77869"
      ]
     },
     "metadata": {},
     "output_type": "display_data"
    },
    {
     "name": "stdout",
     "output_type": "stream",
     "text": [
      "['Ridenour Rehearsal Studios', 'The Basement East', 'Ryman Auditorium', 'Exit In']\n"
     ]
    }
   ],
   "source": [
    "cities = get_city_id(locations)\n",
    "cities\n",
    "for cityID in cities:\n",
    "    print(cityID)\n",
    "    display(output_matching_df(cityID,df))\n",
    "    value = output_matching_df(cityID, df).iloc[0]['Genre Matches']\n",
    "    venue_info_df = get_latLong(locations)\n",
    "    display(venue_info_df)\n",
    "    arr = []\n",
    "    for i in range(len(venue_info_df.index)):\n",
    "        arr.append([venue_info_df['Latitude'][venue_info_df.index][i],venue_info_df['Longitude'][venue_info_df.index][i]])\n",
    "    sources = np.array(arr)\n",
    "    distance_matrix = great_circle_distance_matrix(sources)\n",
    "    permutation, distance = solve_tsp_dynamic_programming(distance_matrix)\n",
    "    distance = distance/1609\n",
    "    permutation\n",
    "    s = pd.Series(permutation)\n",
    "    mappingDict = {}\n",
    "    for i in range(len(s)):\n",
    "        mappingDict[i] = venue_info_df.index[i]\n",
    "    s = s.map(mappingDict)\n",
    "    optimalPath = s.tolist()\n",
    "    print(optimalPath)\n",
    "\n",
    "\n",
    "    "
   ]
  },
  {
   "cell_type": "code",
   "execution_count": null,
   "metadata": {},
   "outputs": [],
   "source": [
    "r.json()"
   ]
  },
  {
   "cell_type": "code",
   "execution_count": 651,
   "metadata": {},
   "outputs": [
    {
     "data": {
      "text/plain": [
       "3759979"
      ]
     },
     "execution_count": 651,
     "metadata": {},
     "output_type": "execute_result"
    }
   ],
   "source": [
    "r = requests.get(\"https://api.songkick.com/api/3.0/metro_areas/\"+ \"35129\" +\"/calendar.json?apikey=\" + str(api_key))\n",
    "events = r.json()[\"resultsPage\"][\"results\"][\"event\"]\n",
    "venue = events[i][\"venue\"][\"id\"]\n",
    "\n",
    "venue"
   ]
  },
  {
   "cell_type": "code",
   "execution_count": null,
   "metadata": {},
   "outputs": [],
   "source": []
  }
 ],
 "metadata": {
  "kernelspec": {
   "display_name": "Python 3",
   "language": "python",
   "name": "python3"
  },
  "language_info": {
   "codemirror_mode": {
    "name": "ipython",
    "version": 3
   },
   "file_extension": ".py",
   "mimetype": "text/x-python",
   "name": "python",
   "nbconvert_exporter": "python",
   "pygments_lexer": "ipython3",
   "version": "3.8.6"
  }
 },
 "nbformat": 4,
 "nbformat_minor": 2
}
