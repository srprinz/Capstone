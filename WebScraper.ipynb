{
 "cells": [
  {
   "cell_type": "markdown",
   "metadata": {},
   "source": [
    "WebScraping Function"
   ]
  },
  {
   "cell_type": "code",
   "execution_count": 1,
   "metadata": {},
   "outputs": [
    {
     "data": {
      "text/html": [
       "<style>.container { width:95% !important; }</style>"
      ],
      "text/plain": [
       "<IPython.core.display.HTML object>"
      ]
     },
     "metadata": {},
     "output_type": "display_data"
    }
   ],
   "source": [
    "import requests\n",
    "# These two things are for Pandas, it widens the notebook and lets us display data easily.\n",
    "from IPython.core.display import display, HTML\n",
    "display(HTML(\"<style>.container { width:95% !important; }</style>\"))"
   ]
  },
  {
   "cell_type": "code",
   "execution_count": 17,
   "metadata": {},
   "outputs": [
    {
     "name": "stdout",
     "output_type": "stream",
     "text": [
      "Collecting spotipy\n",
      "  Downloading spotipy-2.16.0-py3-none-any.whl (24 kB)\n",
      "Requirement already satisfied: requests>=2.20.0 in /opt/conda/lib/python3.8/site-packages (from spotipy) (2.24.0)\n",
      "Requirement already satisfied: six>=1.10.0 in /opt/conda/lib/python3.8/site-packages (from spotipy) (1.15.0)\n",
      "Requirement already satisfied: certifi>=2017.4.17 in /opt/conda/lib/python3.8/site-packages (from requests>=2.20.0->spotipy) (2020.6.20)\n",
      "Requirement already satisfied: chardet<4,>=3.0.2 in /opt/conda/lib/python3.8/site-packages (from requests>=2.20.0->spotipy) (3.0.4)\n",
      "Requirement already satisfied: idna<3,>=2.5 in /opt/conda/lib/python3.8/site-packages (from requests>=2.20.0->spotipy) (2.10)\n",
      "Requirement already satisfied: urllib3!=1.25.0,!=1.25.1,<1.26,>=1.21.1 in /opt/conda/lib/python3.8/site-packages (from requests>=2.20.0->spotipy) (1.25.10)\n",
      "Installing collected packages: spotipy\n",
      "Successfully installed spotipy-2.16.0\n"
     ]
    }
   ],
   "source": [
    "!pip3 install spotipy"
   ]
  },
  {
   "cell_type": "code",
   "execution_count": 146,
   "metadata": {},
   "outputs": [
    {
     "data": {
      "text/plain": [
       "['dance pop', 'pop', 'post-teen pop']"
      ]
     },
     "execution_count": 146,
     "metadata": {},
     "output_type": "execute_result"
    }
   ],
   "source": [
    "#FIRST, obtain artist ID\n",
    "import spotipy\n",
    "from spotipy.oauth2 import SpotifyClientCredentials \n",
    "#To access authorised Spotify data\n",
    "client_id = '693faf0bce4f4fb0aa5fc5d8b3cc0b25'\n",
    "client_secret = 'c2ab38a172f44774a0cfae1d7734130f'\n",
    "client_credentials_manager = SpotifyClientCredentials(client_id=client_id, client_secret=client_secret)\n",
    "\n",
    "#spotify object to access API\n",
    "sp = spotipy.Spotify(client_credentials_manager=client_credentials_manager) \n",
    "\n",
    "#artist will have to provide their own ID that is assigned to them by spotify\n",
    "#this is because small bands do not often pop up as the first search return so we cannot rely on that\n",
    "#there are also duplicate names\n",
    "def get_genre(artistID):\n",
    "    #navigate to artist\n",
    "    artist = sp.artist(artistID)\n",
    "    \n",
    "    #Obtain genre\n",
    "    genres = []\n",
    "    genres = artist['genres']\n",
    "    return genres\n",
    "\n",
    "#Example with Lady Gaga, will return list of genres\n",
    "get_genre(\"6jJ0s89eD6GaHleKKya26X\")\n"
   ]
  },
  {
   "cell_type": "code",
   "execution_count": 76,
   "metadata": {},
   "outputs": [
    {
     "name": "stdout",
     "output_type": "stream",
     "text": [
      "Requirement already satisfied: lxml in /opt/conda/lib/python3.8/site-packages (4.5.2)\r\n"
     ]
    }
   ],
   "source": [
    "import requests\n",
    "!pip3 install lxml\n",
    "from lxml import html\n"
   ]
  },
  {
   "cell_type": "code",
   "execution_count": 147,
   "metadata": {},
   "outputs": [
    {
     "data": {
      "text/plain": [
       "[' Mexico City', ' London', ' Sydney', ' São Paulo', ' Chicago']"
      ]
     },
     "execution_count": 147,
     "metadata": {},
     "output_type": "execute_result"
    }
   ],
   "source": [
    "import re\n",
    "\n",
    "#Scrape artist about section to get top cities\n",
    "artistID = '6jJ0s89eD6GaHleKKya26X'\n",
    "#parse for top cities\n",
    "def get_cities(ID):\n",
    "    r = requests.get('https://open.spotify.com/artist/{}/about'.format(artistID), timeout=10)\n",
    "    match = re.search(r'Where People Listen', r.text)\n",
    "    #get where people listen starting point\n",
    "    string = r.text[match.start():]\n",
    "    #split at colon\n",
    "    strings = string.split(':')\n",
    "    strings1 = strings[1].split('\"')\n",
    "    cities = strings1[0].split(\",\")\n",
    "    #grab second string\n",
    "    return cities\n",
    "get_cities(artistID)"
   ]
  },
  {
   "cell_type": "code",
   "execution_count": 144,
   "metadata": {},
   "outputs": [
    {
     "data": {
      "text/plain": [
       "[' London', ' São Paulo', ' Mexico City', ' Sydney', ' Chicago']"
      ]
     },
     "execution_count": 144,
     "metadata": {},
     "output_type": "execute_result"
    }
   ],
   "source": []
  },
  {
   "cell_type": "code",
   "execution_count": null,
   "metadata": {},
   "outputs": [],
   "source": []
  }
 ],
 "metadata": {
  "kernelspec": {
   "display_name": "Python 3",
   "language": "python",
   "name": "python3"
  },
  "language_info": {
   "codemirror_mode": {
    "name": "ipython",
    "version": 3
   },
   "file_extension": ".py",
   "mimetype": "text/x-python",
   "name": "python",
   "nbconvert_exporter": "python",
   "pygments_lexer": "ipython3",
   "version": "3.8.5"
  }
 },
 "nbformat": 4,
 "nbformat_minor": 4
}
