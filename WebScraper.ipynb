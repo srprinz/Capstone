{
 "cells": [
  {
   "cell_type": "markdown",
   "metadata": {},
   "source": [
    "WebScraping Function"
   ]
  },
  {
   "cell_type": "code",
   "execution_count": 37,
   "metadata": {},
   "outputs": [
    {
     "data": {
      "text/html": [
       "<style>.container { width:95% !important; }</style>"
      ],
      "text/plain": [
       "<IPython.core.display.HTML object>"
      ]
     },
     "metadata": {},
     "output_type": "display_data"
    }
   ],
   "source": [
    "import requests\n",
    "# These two things are for Pandas, it widens the notebook and lets us display data easily.\n",
    "from IPython.core.display import display, HTML\n",
    "display(HTML(\"<style>.container { width:95% !important; }</style>\"))"
   ]
  },
  {
   "cell_type": "code",
   "execution_count": 38,
   "metadata": {},
   "outputs": [
    {
     "name": "stdout",
     "output_type": "stream",
     "text": [
      "Requirement already satisfied: spotipy in /opt/conda/lib/python3.8/site-packages (2.16.0)\n",
      "Requirement already satisfied: six>=1.10.0 in /opt/conda/lib/python3.8/site-packages (from spotipy) (1.15.0)\n",
      "Requirement already satisfied: requests>=2.20.0 in /opt/conda/lib/python3.8/site-packages (from spotipy) (2.24.0)\n",
      "Requirement already satisfied: certifi>=2017.4.17 in /opt/conda/lib/python3.8/site-packages (from requests>=2.20.0->spotipy) (2020.6.20)\n",
      "Requirement already satisfied: chardet<4,>=3.0.2 in /opt/conda/lib/python3.8/site-packages (from requests>=2.20.0->spotipy) (3.0.4)\n",
      "Requirement already satisfied: urllib3!=1.25.0,!=1.25.1,<1.26,>=1.21.1 in /opt/conda/lib/python3.8/site-packages (from requests>=2.20.0->spotipy) (1.25.10)\n",
      "Requirement already satisfied: idna<3,>=2.5 in /opt/conda/lib/python3.8/site-packages (from requests>=2.20.0->spotipy) (2.10)\n"
     ]
    }
   ],
   "source": [
    "!pip3 install spotipy"
   ]
  },
  {
   "cell_type": "code",
   "execution_count": 51,
   "metadata": {},
   "outputs": [
    {
     "data": {
      "text/plain": [
       "69"
      ]
     },
     "execution_count": 51,
     "metadata": {},
     "output_type": "execute_result"
    }
   ],
   "source": [
    "import spotipy\n",
    "from spotipy.oauth2 import SpotifyClientCredentials \n",
    "#To access authorised Spotify data\n",
    "client_id = '693faf0bce4f4fb0aa5fc5d8b3cc0b25'\n",
    "client_secret = 'c2ab38a172f44774a0cfae1d7734130f'\n",
    "client_credentials_manager = SpotifyClientCredentials(client_id=client_id, client_secret=client_secret)\n",
    "\n",
    "#spotify object to access API\n",
    "sp = spotipy.Spotify(client_credentials_manager=client_credentials_manager) \n",
    "#artist will have to provide their own ID that is assigned to them by spotify\n",
    "#this is because small bands do not often pop up as the first search return so we cannot rely on that\n",
    "#there are also duplicate names\n",
    "\n",
    "name = 'Endion'\n",
    "#not deemed reliable yet\n",
    "def get_artistID_by_artistName(artistName):\n",
    "        artist = sp.search(q=name, type=\"artist\")\n",
    "        artistObject = artist['artists']['items']\n",
    "        for n in range(len(artistObject)):\n",
    "            if artistObject[n]['name'].lower() == name.lower():\n",
    "                artistID = artistObject[n]['id']\n",
    "        return artistID;\n",
    "    \n",
    "def get_genre(artistID):\n",
    "    #navigate to artist\n",
    "    artist = sp.artist(artistID)\n",
    "    #Obtain genre\n",
    "    genres = []\n",
    "    genres = artist['genres']\n",
    "    return genres\n",
    "\n",
    "    \n",
    "def get_followers(artistID):\n",
    "    #navigate to artist\n",
    "    artist = sp.artist(artistID)\n",
    "    #Obtain follower count\n",
    "    followers = int(artist['followers']['total'])\n",
    "    return followers\n",
    "\n",
    "#Example wtih small artist\n",
    "artistID = get_artistID_by_artistName('Name')\n",
    "#Example with small artist, will return list of genres\n",
    "get_genre(artistID)\n",
    "#Example with small artist, will return number of followers\n",
    "get_followers(artistID)"
   ]
  },
  {
   "cell_type": "code",
   "execution_count": 52,
   "metadata": {},
   "outputs": [
    {
     "name": "stdout",
     "output_type": "stream",
     "text": [
      "Requirement already satisfied: lxml in /opt/conda/lib/python3.8/site-packages (4.5.2)\r\n"
     ]
    }
   ],
   "source": [
    "import requests\n",
    "!pip3 install lxml\n",
    "from lxml import html\n"
   ]
  },
  {
   "cell_type": "code",
   "execution_count": 53,
   "metadata": {},
   "outputs": [
    {
     "data": {
      "text/plain": [
       "27"
      ]
     },
     "execution_count": 53,
     "metadata": {},
     "output_type": "execute_result"
    }
   ],
   "source": [
    "import re\n",
    "\n",
    "#Scrape artist about section to get top cities\n",
    "#parse for top cities\n",
    "def get_cities(ID):\n",
    "    r = requests.get('https://open.spotify.com/artist/{}/about'.format(artistID), timeout=10)\n",
    "    match = re.search(r'Where People Listen', r.text)\n",
    "    #get where people listen starting point\n",
    "    string = r.text[match.start():]\n",
    "    #split at colon\n",
    "    strings = string.split(':')\n",
    "    strings1 = strings[1].split('\"')\n",
    "    cities = strings1[0].split(\",\")\n",
    "    #grab second string\n",
    "    return cities\n",
    "\n",
    "def get_monthlyListeners(ID):\n",
    "    r = requests.get('https://open.spotify.com/artist/{}/about'.format(artistID), timeout=10)\n",
    "    match = re.search(r'Monthly Listeners', r.text)\n",
    "    #get monthly listeners starting point\n",
    "    string = r.text[match.start():]\n",
    "    #split at colon\n",
    "    strings = string.split(':')\n",
    "    strings1 = strings[1].split(',')\n",
    "    monthlyListeners = strings1[0].split(\",\")\n",
    "    #grab second string\n",
    "    return int(monthlyListeners[0].lstrip())\n",
    "\n",
    "get_cities(artistID)\n",
    "get_monthlyListeners(artistID)"
   ]
  },
  {
   "cell_type": "code",
   "execution_count": null,
   "metadata": {},
   "outputs": [],
   "source": []
  }
 ],
 "metadata": {
  "kernelspec": {
   "display_name": "Python 3",
   "language": "python",
   "name": "python3"
  },
  "language_info": {
   "codemirror_mode": {
    "name": "ipython",
    "version": 3
   },
   "file_extension": ".py",
   "mimetype": "text/x-python",
   "name": "python",
   "nbconvert_exporter": "python",
   "pygments_lexer": "ipython3",
   "version": "3.8.5"
  }
 },
 "nbformat": 4,
 "nbformat_minor": 4
}
