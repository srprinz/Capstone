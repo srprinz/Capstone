{
 "cells": [
  {
   "cell_type": "code",
   "execution_count": 49,
   "metadata": {
    "collapsed": true
   },
   "outputs": [
    {
     "name": "stdout",
     "output_type": "stream",
     "text": [
      "Requirement already satisfied: spotipy in /opt/conda/lib/python3.8/site-packages (2.16.1)\n",
      "Requirement already satisfied: six>=1.10.0 in /opt/conda/lib/python3.8/site-packages (from spotipy) (1.15.0)\n",
      "Requirement already satisfied: requests>=2.20.0 in /opt/conda/lib/python3.8/site-packages (from spotipy) (2.25.1)\n",
      "Requirement already satisfied: chardet<5,>=3.0.2 in /opt/conda/lib/python3.8/site-packages (from requests>=2.20.0->spotipy) (4.0.0)\n",
      "Requirement already satisfied: idna<3,>=2.5 in /opt/conda/lib/python3.8/site-packages (from requests>=2.20.0->spotipy) (2.10)\n",
      "Requirement already satisfied: urllib3<1.27,>=1.21.1 in /opt/conda/lib/python3.8/site-packages (from requests>=2.20.0->spotipy) (1.26.3)\n",
      "Requirement already satisfied: certifi>=2017.4.17 in /opt/conda/lib/python3.8/site-packages (from requests>=2.20.0->spotipy) (2020.12.5)\n",
      "Requirement already satisfied: geopandas in /opt/conda/lib/python3.8/site-packages (0.8.2)\n",
      "Requirement already satisfied: pyproj>=2.2.0 in /opt/conda/lib/python3.8/site-packages (from geopandas) (3.0.0.post1)\n",
      "Requirement already satisfied: pandas>=0.23.0 in /opt/conda/lib/python3.8/site-packages (from geopandas) (1.2.1)\n",
      "Requirement already satisfied: shapely in /opt/conda/lib/python3.8/site-packages (from geopandas) (1.7.1)\n",
      "Requirement already satisfied: fiona in /opt/conda/lib/python3.8/site-packages (from geopandas) (1.8.18)\n",
      "Requirement already satisfied: python-dateutil>=2.7.3 in /opt/conda/lib/python3.8/site-packages (from pandas>=0.23.0->geopandas) (2.8.1)\n",
      "Requirement already satisfied: pytz>=2017.3 in /opt/conda/lib/python3.8/site-packages (from pandas>=0.23.0->geopandas) (2021.1)\n",
      "Requirement already satisfied: numpy>=1.16.5 in /opt/conda/lib/python3.8/site-packages (from pandas>=0.23.0->geopandas) (1.20.0)\n",
      "Requirement already satisfied: certifi in /opt/conda/lib/python3.8/site-packages (from pyproj>=2.2.0->geopandas) (2020.12.5)\n",
      "Requirement already satisfied: six>=1.5 in /opt/conda/lib/python3.8/site-packages (from python-dateutil>=2.7.3->pandas>=0.23.0->geopandas) (1.15.0)\n",
      "Requirement already satisfied: attrs>=17 in /opt/conda/lib/python3.8/site-packages (from fiona->geopandas) (20.3.0)\n",
      "Requirement already satisfied: cligj>=0.5 in /opt/conda/lib/python3.8/site-packages (from fiona->geopandas) (0.7.1)\n",
      "Requirement already satisfied: click-plugins>=1.0 in /opt/conda/lib/python3.8/site-packages (from fiona->geopandas) (1.1.1)\n",
      "Requirement already satisfied: munch in /opt/conda/lib/python3.8/site-packages (from fiona->geopandas) (2.5.0)\n",
      "Requirement already satisfied: click<8,>=4.0 in /opt/conda/lib/python3.8/site-packages (from fiona->geopandas) (7.1.2)\n",
      "Requirement already satisfied: geopy in /opt/conda/lib/python3.8/site-packages (2.1.0)\n",
      "Requirement already satisfied: geographiclib<2,>=1.49 in /opt/conda/lib/python3.8/site-packages (from geopy) (1.50)\n",
      "Requirement already satisfied: requests in /opt/conda/lib/python3.8/site-packages (2.25.1)\n",
      "Requirement already satisfied: urllib3<1.27,>=1.21.1 in /opt/conda/lib/python3.8/site-packages (from requests) (1.26.3)\n",
      "Requirement already satisfied: chardet<5,>=3.0.2 in /opt/conda/lib/python3.8/site-packages (from requests) (4.0.0)\n",
      "Requirement already satisfied: idna<3,>=2.5 in /opt/conda/lib/python3.8/site-packages (from requests) (2.10)\n",
      "Requirement already satisfied: certifi>=2017.4.17 in /opt/conda/lib/python3.8/site-packages (from requests) (2020.12.5)\n",
      "Requirement already satisfied: lxml in /opt/conda/lib/python3.8/site-packages (4.6.2)\n",
      "Requirement already satisfied: pandas in /opt/conda/lib/python3.8/site-packages (1.2.1)\n",
      "Requirement already satisfied: python-dateutil>=2.7.3 in /opt/conda/lib/python3.8/site-packages (from pandas) (2.8.1)\n",
      "Requirement already satisfied: pytz>=2017.3 in /opt/conda/lib/python3.8/site-packages (from pandas) (2021.1)\n",
      "Requirement already satisfied: numpy>=1.16.5 in /opt/conda/lib/python3.8/site-packages (from pandas) (1.20.0)\n",
      "Requirement already satisfied: six>=1.5 in /opt/conda/lib/python3.8/site-packages (from python-dateutil>=2.7.3->pandas) (1.15.0)\n",
      "Requirement already satisfied: numpy in /opt/conda/lib/python3.8/site-packages (1.20.0)\n",
      "Requirement already satisfied: gmplot in /opt/conda/lib/python3.8/site-packages (1.4.1)\n",
      "Requirement already satisfied: requests in /opt/conda/lib/python3.8/site-packages (from gmplot) (2.25.1)\n",
      "Requirement already satisfied: idna<3,>=2.5 in /opt/conda/lib/python3.8/site-packages (from requests->gmplot) (2.10)\n",
      "Requirement already satisfied: certifi>=2017.4.17 in /opt/conda/lib/python3.8/site-packages (from requests->gmplot) (2020.12.5)\n",
      "Requirement already satisfied: urllib3<1.27,>=1.21.1 in /opt/conda/lib/python3.8/site-packages (from requests->gmplot) (1.26.3)\n",
      "Requirement already satisfied: chardet<5,>=3.0.2 in /opt/conda/lib/python3.8/site-packages (from requests->gmplot) (4.0.0)\n"
     ]
    }
   ],
   "source": [
    "!pip install spotipy\n",
    "!pip install geopandas\n",
    "!pip install geopy\n",
    "!pip install requests\n",
    "!pip install lxml\n",
    "!pip install pandas\n",
    "!pip install numpy\n",
    "!pip install gmplot"
   ]
  },
  {
   "cell_type": "code",
   "execution_count": 50,
   "metadata": {},
   "outputs": [],
   "source": [
    "import requests\n",
    "import spotipy\n",
    "import geopandas\n",
    "import geopy\n",
    "from spotipy.oauth2 import SpotifyClientCredentials \n",
    "import requests\n",
    "from lxml import html\n",
    "import re\n",
    "import pandas as pd\n",
    "import numpy as np\n",
    "import math\n",
    "from geopy.geocoders import Nominatim"
   ]
  },
  {
   "cell_type": "markdown",
   "metadata": {},
   "source": [
    "## Spotify Scraper"
   ]
  },
  {
   "cell_type": "markdown",
   "metadata": {},
   "source": [
    "### Connect to Spotify API"
   ]
  },
  {
   "cell_type": "code",
   "execution_count": 51,
   "metadata": {},
   "outputs": [],
   "source": [
    "client_id = '693faf0bce4f4fb0aa5fc5d8b3cc0b25'\n",
    "client_secret = 'c2ab38a172f44774a0cfae1d7734130f'\n",
    "client_credentials_manager = SpotifyClientCredentials(client_id=client_id, client_secret=client_secret)\n",
    "sp = spotipy.Spotify(client_credentials_manager=client_credentials_manager) "
   ]
  },
  {
   "cell_type": "markdown",
   "metadata": {},
   "source": [
    "### Scraper Functions\n",
    "get_artistID_by_artistName - check for reliability, better search"
   ]
  },
  {
   "cell_type": "code",
   "execution_count": 52,
   "metadata": {},
   "outputs": [],
   "source": [
    "#not deemed reliable yet\n",
    "def get_artistID_by_artistName(artistName):\n",
    "        artist = sp.search(q=artistName, type=\"artist\")\n",
    "        #print(artist)\n",
    "        artistObject = artist['artists']['items']\n",
    "        if len(artistObject) == 0:\n",
    "            return \"NOT IN SPOTIFY\"\n",
    "        else:\n",
    "            artistID = artistObject[0]['id']\n",
    "            #print('AID: ', artistID)\n",
    "            return artistID;\n",
    "\n",
    "def get_genre(artistID):\n",
    "    #navigate to artist\n",
    "    artist = sp.artist(artistID)\n",
    "    #Obtain genre\n",
    "    genres = artist['genres']\n",
    "    if len(genres) == 0:\n",
    "        return 'NONE'\n",
    "    else:\n",
    "        return genres\n",
    "\n",
    "def get_followers(artistID):\n",
    "    #navigate to artist\n",
    "    artist = sp.artist(artistID)\n",
    "    #Obtain follower count\n",
    "    followers = int(artist['followers']['total'])\n",
    "    return followers\n",
    "\n",
    "def get_monthlyListeners(artistID):\n",
    "    r = requests.get('https://open.spotify.com/artist/{}'.format(artistID), timeout=10)\n",
    "    match = re.search(r'Monthly Listeners', r.text)\n",
    "    print(r.text)\n",
    "    #get monthly listeners starting point\n",
    "    string = r.text[match.start():]\n",
    "    #split at colon\n",
    "    strings = string.split(':')\n",
    "    strings1 = strings[1].split(',')\n",
    "    monthlyListeners = strings1[0].split(\",\")\n",
    "    #grab second string\n",
    "    return int(monthlyListeners[0].lstrip())\n",
    "\n",
    "def get_cities(artistID):\n",
    "    r = requests.get('https://open.spotify.com/artist/{}'.format(artistID), timeout=10)\n",
    "    match = re.search(r'Where People Listen', r.text)\n",
    "    #get where people listen starting point\n",
    "    string = r.text[match.start():]\n",
    "    #split at colon\n",
    "    strings = string.split(':')\n",
    "    strings1 = strings[1].split('\"')\n",
    "    cities = strings1[0].split(\",\")\n",
    "    #grab second string\n",
    "    return cities"
   ]
  },
  {
   "cell_type": "markdown",
   "metadata": {},
   "source": [
    "## Songkick Scraper"
   ]
  },
  {
   "cell_type": "markdown",
   "metadata": {},
   "source": [
    "### Connect to Songkick API"
   ]
  },
  {
   "cell_type": "code",
   "execution_count": 53,
   "metadata": {},
   "outputs": [],
   "source": [
    "# Define API Key\n",
    "api_key = \"FYSeGSNlg6HXIfAr\""
   ]
  },
  {
   "cell_type": "markdown",
   "metadata": {},
   "source": [
    "### Scraper Functions\n",
    "\n",
    "get_venueArtists: add in festival/lineup capabilities\n",
    "\n",
    "get_venueGenres: clean up mapping\n",
    "\n",
    "get_venueSize: Decide how to use followers/listeners, fix metric (within the 30-60 percentile?), regression using Songkick Venue Capacity?"
   ]
  },
  {
   "cell_type": "code",
   "execution_count": 54,
   "metadata": {},
   "outputs": [],
   "source": [
    "def get_venueArtists(metroID):\n",
    "    # request json\n",
    "    r = requests.get(\"https://api.songkick.com/api/3.0/metro_areas/\"+ str(metroID) +\"/calendar.json?apikey=\" + str(api_key))\n",
    "    # parse for events\n",
    "    events = r.json()[\"resultsPage\"][\"results\"][\"event\"]\n",
    "    # define dictionary for storage\n",
    "    venue_artist_dict = {}\n",
    "    #loop through events\n",
    "    for i in range(len(events)):\n",
    "        # The artist\n",
    "        artist = events[i][\"performance\"][0][\"artist\"][\"displayName\"]\n",
    "        # Venue Name\n",
    "        venue = events[i][\"venue\"][\"displayName\"]\n",
    "       # venueLat = events[i][\"venue\"][\"lat\"]\n",
    "        # venueLong = events[i][\"venue\"][\"lng\"]\n",
    "        # if the venue is not already in dict, add it with the artist as its value\n",
    "        if venue not in venue_artist_dict.keys():\n",
    "            venue_artist_dict[venue] = [artist]\n",
    "        # if it is in the dict, add the act to its \n",
    "        else:\n",
    "            if artist not in venue_artist_dict[venue]:\n",
    "                venue_artist_dict[venue].append(artist)\n",
    "    return venue_artist_dict\n",
    "\n",
    "def get_venueGenres(venue_artist_dict):\n",
    "    venue_genre_dict = {}\n",
    "    # loop through venues\n",
    "    for venue in venue_artist_dict.keys():\n",
    "        # loop through artists at each venue\n",
    "        genre_list = []\n",
    "        for artist in venue_artist_dict[venue]:\n",
    "            #get artist id\n",
    "            id_return = get_artistID_by_artistName(artist)\n",
    "            # if its too small of an artist, ignore it\n",
    "            if id_return == 'NOT IN SPOTIFY':\n",
    "                artist_genre = 'NONE'\n",
    "                # get the genre of artists in spotify\n",
    "            else:\n",
    "                artist_genre = get_genre(id_return)\n",
    "                print\n",
    "                mapped_genre=-1\n",
    "                # replace the genre with a code... NEED TO CLEAN UP\n",
    "                if any(\"funk\" in s for s in artist_genre):\n",
    "                    mapped_genre = 0\n",
    "                if any(\"rock\" in s for s in artist_genre):\n",
    "                    mapped_genre = 1 \n",
    "                if any(\"punk\" in s for s in artist_genre):\n",
    "                    mapped_genre = 1\n",
    "                if any(\"reggae\" in s for s in artist_genre):\n",
    "                    mapped_genre = 2\n",
    "                if any(\"r&b\" in s for s in artist_genre):\n",
    "                    mapped_genre = 3\n",
    "                if any(\"soul\" in s for s in artist_genre):\n",
    "                    mapped_genre = 3\n",
    "                if any(\"rap\" in s for s in artist_genre):\n",
    "                    mapped_genre = 4\n",
    "                if any(\"bounce\" in s for s in artist_genre):\n",
    "                    mapped_genre = 4\n",
    "                if any(\"pop\" in s for s in artist_genre):\n",
    "                    mapped_genre = 5\n",
    "                if any(\"jazz\" in s for s in artist_genre):\n",
    "                    mapped_genre = 6\n",
    "                if any(\"electronic\" in s for s in artist_genre):\n",
    "                    mapped_genre = 7\n",
    "                if any(\"indie\" in s for s in artist_genre):\n",
    "                    mapped_genre = 8\n",
    "                if any(\"country\" in s for s in artist_genre):\n",
    "                    mapped_genre = 9\n",
    "                if any(\"cajun\" in s for s in artist_genre):\n",
    "                    mapped_genre = 9\n",
    "                # add genre to list\n",
    "                genre_list.append(mapped_genre)\n",
    "        # assign genres to venue\n",
    "        venue_genre_dict[venue] = list(set([x for x in genre_list if x != -1]))\n",
    "    # return dictionary\n",
    "    return venue_genre_dict\n",
    "\n",
    "def get_venueSize(venue_artist_dict):\n",
    "    venue_size_dict = {}\n",
    "    # loop through venues\n",
    "    for venue in venue_artist_dict.keys():\n",
    "        # loop through artists at each venue\n",
    "        size_list = []\n",
    "        for artist in venue_artist_dict[venue]:\n",
    "            #get artist id\n",
    "            id_return = get_artistID_by_artistName(artist)\n",
    "            # if its too small of an artist, its size is basically 0\n",
    "            if id_return == 'NOT IN SPOTIFY':\n",
    "                size_list.append(0)\n",
    "            # get their followers\n",
    "            else:\n",
    "                artist_followers = get_followers(id_return)\n",
    "                size_list.append(artist_followers)\n",
    "        venue_size_dict[venue] = np.mean(np.array(size_list))\n",
    "    return venue_size_dict"
   ]
  },
  {
   "cell_type": "markdown",
   "metadata": {},
   "source": [
    "## Matching Functions\n",
    "Both: Need to figure out a way to clean it up\n"
   ]
  },
  {
   "cell_type": "code",
   "execution_count": 55,
   "metadata": {},
   "outputs": [],
   "source": [
    "#\n",
    "# FUNCTION TO ADD ELEMENTS TO DICT\n",
    "#\n",
    "def append_value(dict_obj, key, value):\n",
    "    if key in dict_obj:\n",
    "        if not isinstance(dict_obj[key], tuple):\n",
    "            dict_obj[key] = [dict_obj[key]]\n",
    "        dict_obj[key].append(value)\n",
    "    else:\n",
    "        dict_obj[key] = value\n",
    "\n",
    "#\n",
    "# GENRE MATCH FUNCTION\n",
    "# if artist genre identity is a match for venue genre, match (hard constraints)\n",
    "#\n",
    "\n",
    "def genre_match(d, genre_of):\n",
    "    #print('in genre check function')\n",
    "    genre_filtered_dictionary = {}\n",
    "\n",
    "    # iterate through artist's given constraints O(n)\n",
    "    for i in genre_of:\n",
    "        for key, value in d.items():\n",
    "            for j in value:\n",
    "                if i == j:\n",
    "                    append_value(genre_filtered_dictionary, key, value)\n",
    "                else:\n",
    "                    pass\n",
    "\n",
    "    return genre_filtered_dictionary\n",
    "\n",
    "def size_match(d,size_of):\n",
    "    perfect_match_dict={}\n",
    "    for key,value in d.items():\n",
    "        num=value\n",
    "        difference=abs(num-size_of)\n",
    "        per=difference/size_of\n",
    "        percentage1=1-per\n",
    "        if(percentage1>=.4):\n",
    "            perfect_match_dict[key]= round(percentage1, 2)\n",
    "            None\n",
    "    return perfect_match_dict"
   ]
  },
  {
   "cell_type": "markdown",
   "metadata": {},
   "source": [
    "## New Orleans Example"
   ]
  },
  {
   "cell_type": "code",
   "execution_count": 57,
   "metadata": {},
   "outputs": [
    {
     "data": {
      "text/html": [
       "<div>\n",
       "<style scoped>\n",
       "    .dataframe tbody tr th:only-of-type {\n",
       "        vertical-align: middle;\n",
       "    }\n",
       "\n",
       "    .dataframe tbody tr th {\n",
       "        vertical-align: top;\n",
       "    }\n",
       "\n",
       "    .dataframe thead th {\n",
       "        text-align: right;\n",
       "    }\n",
       "</style>\n",
       "<table border=\"1\" class=\"dataframe\">\n",
       "  <thead>\n",
       "    <tr style=\"text-align: right;\">\n",
       "      <th></th>\n",
       "      <th>band_name</th>\n",
       "      <th>id</th>\n",
       "      <th>genre</th>\n",
       "      <th>followers</th>\n",
       "      <th>mapped_genre</th>\n",
       "    </tr>\n",
       "  </thead>\n",
       "  <tbody>\n",
       "    <tr>\n",
       "      <th>0</th>\n",
       "      <td>Vampire Weekend</td>\n",
       "      <td>5BvJzeQpmsdsFp4HGUYUEx</td>\n",
       "      <td>[baroque pop, indie pop, indie rock, modern ro...</td>\n",
       "      <td>1689582</td>\n",
       "      <td>[1, 5, 8]</td>\n",
       "    </tr>\n",
       "    <tr>\n",
       "      <th>1</th>\n",
       "      <td>The Doobie Brothers</td>\n",
       "      <td>39T6qqI0jDtSWWioX8eGJz</td>\n",
       "      <td>[album rock, art rock, blues rock, classic roc...</td>\n",
       "      <td>1473095</td>\n",
       "      <td>[1, 9]</td>\n",
       "    </tr>\n",
       "    <tr>\n",
       "      <th>2</th>\n",
       "      <td>Greta Van Fleet</td>\n",
       "      <td>4NpFxQe2UvRCAjto3JqlSl</td>\n",
       "      <td>[modern blues rock, modern hard rock, rock]</td>\n",
       "      <td>1358172</td>\n",
       "      <td>[1]</td>\n",
       "    </tr>\n",
       "    <tr>\n",
       "      <th>3</th>\n",
       "      <td>Tank and the Bangas</td>\n",
       "      <td>5cAtakaadWHJLxmGKrKcX7</td>\n",
       "      <td>[indie soul, new orleans funk]</td>\n",
       "      <td>156536</td>\n",
       "      <td>[0, 8]</td>\n",
       "    </tr>\n",
       "  </tbody>\n",
       "</table>\n",
       "</div>"
      ],
      "text/plain": [
       "             band_name                      id  \\\n",
       "0      Vampire Weekend  5BvJzeQpmsdsFp4HGUYUEx   \n",
       "1  The Doobie Brothers  39T6qqI0jDtSWWioX8eGJz   \n",
       "2      Greta Van Fleet  4NpFxQe2UvRCAjto3JqlSl   \n",
       "3  Tank and the Bangas  5cAtakaadWHJLxmGKrKcX7   \n",
       "\n",
       "                                               genre  followers mapped_genre  \n",
       "0  [baroque pop, indie pop, indie rock, modern ro...    1689582    [1, 5, 8]  \n",
       "1  [album rock, art rock, blues rock, classic roc...    1473095       [1, 9]  \n",
       "2        [modern blues rock, modern hard rock, rock]    1358172          [1]  \n",
       "3                     [indie soul, new orleans funk]     156536       [0, 8]  "
      ]
     },
     "execution_count": 57,
     "metadata": {},
     "output_type": "execute_result"
    }
   ],
   "source": [
    "#use names from class... THIS PART WILL BE CHANGED!\n",
    "\n",
    "names = [\"Vampire Weekend\",\"The Doobie Brothers\", \"Greta Van Fleet\", \"Tank and the Bangas\"]\n",
    "\n",
    "df = pd.DataFrame({\"band_name\": names})\n",
    "df[\"id\"] = df.band_name.apply(get_artistID_by_artistName)\n",
    "df[\"genre\"] = df.id.apply(get_genre)\n",
    "#df[\"listeners\"] = df.id.apply(get_monthlyListeners)\n",
    "df[\"followers\"] = df.id.apply(get_followers)\n",
    "#pd.set_option(\"display.max_rows\", None, \"display.max_columns\", None, 'display.max_colwidth',None)\n",
    "df['mapped_genre'] = [[] for _ in range(df.shape[0])]\n",
    "for i in range(df.genre.size):\n",
    "    if any(\"funk\" in s for s in df.genre[i]):\n",
    "        df['mapped_genre'][i].append('0')\n",
    "        \n",
    "    if any(\"rock\" in s for s in df.genre[i]):\n",
    "        df['mapped_genre'][i].append('1')\n",
    "        \n",
    "    if any(\"punk\" in s for s in df.genre[i]):\n",
    "        df['mapped_genre'][i].append('1')\n",
    "        \n",
    "    if any(\"reggae\" in s for s in df.genre[i]):\n",
    "        df['mapped_genre'][i].append('2')\n",
    "        \n",
    "    if any(\"r&b\" in s for s in df.genre[i]):\n",
    "        df['mapped_genre'][i].append('3')\n",
    "        \n",
    "    if any(\"rap\" in s for s in df.genre[i]):\n",
    "        df['mapped_genre'][i].append('4')\n",
    "        \n",
    "    if any(\"pop\" in s for s in df.genre[i]):\n",
    "        df['mapped_genre'][i].append('5')\n",
    "        \n",
    "    if any(\"jazz\" in s for s in df.genre[i]):\n",
    "        df['mapped_genre'][i].append('6')\n",
    "        \n",
    "    if any(\"electronic\" in s for s in df.genre[i]):\n",
    "        df['mapped_genre'][i].append('7')\n",
    "        \n",
    "    if any(\"indie\" in s for s in df.genre[i]):\n",
    "        df['mapped_genre'][i].append('8')\n",
    "        \n",
    "    if any(\"country\" in s for s in df.genre[i]):\n",
    "        df['mapped_genre'][i].append('9')\n",
    "df"
   ]
  },
  {
   "cell_type": "code",
   "execution_count": 58,
   "metadata": {},
   "outputs": [
    {
     "data": {
      "text/html": [
       "<style  type=\"text/css\" >\n",
       "    #T_d49a1_ th {\n",
       "          max-width: 50px;\n",
       "    }</style><table id=\"T_d49a1_\" ><thead>    <tr>        <th class=\"blank level0\" ></th>        <th class=\"col_heading level0 col0\" >Artist</th>        <th class=\"col_heading level0 col1\" >Artist Genre</th>        <th class=\"col_heading level0 col2\" >Artist Size</th>        <th class=\"col_heading level0 col3\" >Genre Matches</th>        <th class=\"col_heading level0 col4\" >Size Matches</th>    </tr></thead><tbody>\n",
       "                <tr>\n",
       "                        <th id=\"T_d49a1_level0_row0\" class=\"row_heading level0 row0\" >0</th>\n",
       "                        <td id=\"T_d49a1_row0_col0\" class=\"data row0 col0\" >Vampire Weekend</td>\n",
       "                        <td id=\"T_d49a1_row0_col1\" class=\"data row0 col1\" >[1, 5, 8]</td>\n",
       "                        <td id=\"T_d49a1_row0_col2\" class=\"data row0 col2\" >1689582</td>\n",
       "                        <td id=\"T_d49a1_row0_col3\" class=\"data row0 col3\" >{'Unknown venue': [1], 'Fillmore New Orleans': [[8, 1], [8, 1]], 'Smoothie King Center': [[1, 5, 9], [1, 5, 9]], 'UNO Lakefront Arena': [[8, 1], [8, 1]], 'Civic Theatre': [5], 'Saenger Theatre New Orleans': [4, 5], 'Orpheum Theater': [9, 5], 'House of Blues - New Orleans presented by Cricket Wireless': [8, 4], 'One Eyed Jacks': [8, 4], \"Tipitina's\": [8], 'Southport Hall': [8]}</td>\n",
       "                        <td id=\"T_d49a1_row0_col4\" class=\"data row0 col4\" >{'Fillmore New Orleans': 0.77, 'Saenger Theatre New Orleans': 0.86, 'Orpheum Theater': 0.58}</td>\n",
       "            </tr>\n",
       "            <tr>\n",
       "                        <th id=\"T_d49a1_level0_row1\" class=\"row_heading level0 row1\" >1</th>\n",
       "                        <td id=\"T_d49a1_row1_col0\" class=\"data row1 col0\" >The Doobie Brothers</td>\n",
       "                        <td id=\"T_d49a1_row1_col1\" class=\"data row1 col1\" >[1, 9]</td>\n",
       "                        <td id=\"T_d49a1_row1_col2\" class=\"data row1 col2\" >1473095</td>\n",
       "                        <td id=\"T_d49a1_row1_col3\" class=\"data row1 col3\" >{'Unknown venue': [1], 'Fillmore New Orleans': [8, 1], 'Smoothie King Center': [[1, 5, 9], [1, 5, 9]], 'UNO Lakefront Arena': [8, 1], 'Music Box Village': [9], 'Orpheum Theater': [9, 5]}</td>\n",
       "                        <td id=\"T_d49a1_row1_col4\" class=\"data row1 col4\" >{'Fillmore New Orleans': 0.89, 'Saenger Theatre New Orleans': 0.98}</td>\n",
       "            </tr>\n",
       "            <tr>\n",
       "                        <th id=\"T_d49a1_level0_row2\" class=\"row_heading level0 row2\" >2</th>\n",
       "                        <td id=\"T_d49a1_row2_col0\" class=\"data row2 col0\" >Greta Van Fleet</td>\n",
       "                        <td id=\"T_d49a1_row2_col1\" class=\"data row2 col1\" >[1]</td>\n",
       "                        <td id=\"T_d49a1_row2_col2\" class=\"data row2 col2\" >1358172</td>\n",
       "                        <td id=\"T_d49a1_row2_col3\" class=\"data row2 col3\" >{'Unknown venue': [1], 'Fillmore New Orleans': [8, 1], 'Smoothie King Center': [1, 5, 9], 'UNO Lakefront Arena': [8, 1]}</td>\n",
       "                        <td id=\"T_d49a1_row2_col4\" class=\"data row2 col4\" >{'House of Blues - New Orleans presented by Cricket Wireless': 0.43, 'Fillmore New Orleans': 0.96, 'Saenger Theatre New Orleans': 0.93}</td>\n",
       "            </tr>\n",
       "            <tr>\n",
       "                        <th id=\"T_d49a1_level0_row3\" class=\"row_heading level0 row3\" >3</th>\n",
       "                        <td id=\"T_d49a1_row3_col0\" class=\"data row3 col0\" >Tank and the Bangas</td>\n",
       "                        <td id=\"T_d49a1_row3_col1\" class=\"data row3 col1\" >[0, 8]</td>\n",
       "                        <td id=\"T_d49a1_row3_col2\" class=\"data row3 col2\" >156536</td>\n",
       "                        <td id=\"T_d49a1_row3_col3\" class=\"data row3 col3\" >{'Broadside': [0], 'Joy Theater': [0], 'House of Blues - New Orleans presented by Cricket Wireless': [8, 4], 'One Eyed Jacks': [8, 4], 'Fillmore New Orleans': [8, 1], \"Tipitina's\": [8], 'UNO Lakefront Arena': [8, 1], 'Southport Hall': [8]}</td>\n",
       "                        <td id=\"T_d49a1_row3_col4\" class=\"data row3 col4\" >{'One Eyed Jacks': 0.41, 'Music Box Village': 0.96, 'Southport Hall': 0.91}</td>\n",
       "            </tr>\n",
       "    </tbody></table>"
      ],
      "text/plain": [
       "<pandas.io.formats.style.Styler at 0x406126d2b0>"
      ]
     },
     "execution_count": 58,
     "metadata": {},
     "output_type": "execute_result"
    }
   ],
   "source": [
    "#\n",
    "# OUTPUT SECTION\n",
    "# change this portion when looking at different bands\n",
    "#\n",
    "nola = get_venueArtists(\"11772\")\n",
    "nola_venue_genres = get_venueGenres(nola)\n",
    "nola_venue_sizes = get_venueSize(nola)\n",
    "column_names = [\"Artist\", \"Artist Genre\", \"Artist Size\", \"Genre Matches\", \"Size Matches\"]\n",
    "output_df = pd.DataFrame(columns = column_names)\n",
    "\n",
    "for i in range(0,len(df)):\n",
    "    #get artist genres\n",
    "    artist_genre = []\n",
    "    for j in range(0,len(df.mapped_genre[i])):\n",
    "        artist_genre.append(int(df.mapped_genre[i][j]))\n",
    "\n",
    "    #get artist size\n",
    "    artist_size = df.followers[i]\n",
    "\n",
    "    #calculate genre matches\n",
    "    genre_matches = genre_match(nola_venue_genres ,artist_genre)\n",
    "    \n",
    "    \n",
    "    #calculate size matches\n",
    "    size_matches = size_match(nola_venue_sizes ,artist_size)\n",
    "    output_df = output_df.append({'Artist':df.band_name[i],'Artist Genre':artist_genre,\n",
    "                                  'Artist Size':artist_size,'Genre Matches':genre_matches,\n",
    "                                  'Size Matches':size_matches}, ignore_index=True)\n",
    "\n",
    "output_df_styled = output_df.style.set_table_styles([dict(selector=\"th\",props=[('max-width', '50px')])])\n",
    "output_df_styled"
   ]
  },
  {
   "cell_type": "markdown",
   "metadata": {},
   "source": [
    "### Traveling Salesperson Problem/Algorithm (TSP) - Example with Tank and the Bangas"
   ]
  },
  {
   "cell_type": "markdown",
   "metadata": {},
   "source": [
    "#### Get latitude and longitude of each venue recommend by genre match"
   ]
  },
  {
   "cell_type": "code",
   "execution_count": 59,
   "metadata": {},
   "outputs": [
    {
     "data": {
      "text/plain": [
       "{'Broadside': [0],\n",
       " 'Joy Theater': [0],\n",
       " 'House of Blues - New Orleans presented by Cricket Wireless': [8, 4],\n",
       " 'One Eyed Jacks': [8, 4],\n",
       " 'Fillmore New Orleans': [8, 1],\n",
       " \"Tipitina's\": [8],\n",
       " 'UNO Lakefront Arena': [8, 1],\n",
       " 'Southport Hall': [8]}"
      ]
     },
     "execution_count": 59,
     "metadata": {},
     "output_type": "execute_result"
    }
   ],
   "source": [
    "value = output_df.iloc[3][\"Genre Matches\"]\n",
    "value"
   ]
  },
  {
   "cell_type": "code",
   "execution_count": 90,
   "metadata": {},
   "outputs": [
    {
     "data": {
      "text/html": [
       "<div>\n",
       "<style scoped>\n",
       "    .dataframe tbody tr th:only-of-type {\n",
       "        vertical-align: middle;\n",
       "    }\n",
       "\n",
       "    .dataframe tbody tr th {\n",
       "        vertical-align: top;\n",
       "    }\n",
       "\n",
       "    .dataframe thead th {\n",
       "        text-align: right;\n",
       "    }\n",
       "</style>\n",
       "<table border=\"1\" class=\"dataframe\">\n",
       "  <thead>\n",
       "    <tr style=\"text-align: right;\">\n",
       "      <th></th>\n",
       "      <th>Latitude</th>\n",
       "      <th>Longitude</th>\n",
       "    </tr>\n",
       "    <tr>\n",
       "      <th>Venue</th>\n",
       "      <th></th>\n",
       "      <th></th>\n",
       "    </tr>\n",
       "  </thead>\n",
       "  <tbody>\n",
       "    <tr>\n",
       "      <th>Joy Theater</th>\n",
       "      <td>29.956010</td>\n",
       "      <td>-90.073980</td>\n",
       "    </tr>\n",
       "    <tr>\n",
       "      <th>House of Blues - New Orleans presented by Cricket Wireless</th>\n",
       "      <td>29.953160</td>\n",
       "      <td>-90.066170</td>\n",
       "    </tr>\n",
       "    <tr>\n",
       "      <th>One Eyed Jacks</th>\n",
       "      <td>29.957032</td>\n",
       "      <td>-90.064749</td>\n",
       "    </tr>\n",
       "    <tr>\n",
       "      <th>Fillmore New Orleans</th>\n",
       "      <td>29.933560</td>\n",
       "      <td>-90.070010</td>\n",
       "    </tr>\n",
       "    <tr>\n",
       "      <th>Tipitina's</th>\n",
       "      <td>29.917410</td>\n",
       "      <td>-90.100780</td>\n",
       "    </tr>\n",
       "    <tr>\n",
       "      <th>UNO Lakefront Arena</th>\n",
       "      <td>30.029010</td>\n",
       "      <td>-90.052270</td>\n",
       "    </tr>\n",
       "    <tr>\n",
       "      <th>Southport Hall</th>\n",
       "      <td>29.954075</td>\n",
       "      <td>-90.136384</td>\n",
       "    </tr>\n",
       "  </tbody>\n",
       "</table>\n",
       "</div>"
      ],
      "text/plain": [
       "                                                     Latitude  Longitude\n",
       "Venue                                                                   \n",
       "Joy Theater                                         29.956010 -90.073980\n",
       "House of Blues - New Orleans presented by Crick...  29.953160 -90.066170\n",
       "One Eyed Jacks                                      29.957032 -90.064749\n",
       "Fillmore New Orleans                                29.933560 -90.070010\n",
       "Tipitina's                                          29.917410 -90.100780\n",
       "UNO Lakefront Arena                                 30.029010 -90.052270\n",
       "Southport Hall                                      29.954075 -90.136384"
      ]
     },
     "execution_count": 90,
     "metadata": {},
     "output_type": "execute_result"
    }
   ],
   "source": [
    "column_names = [\"Venue\", \"Latitude\", \"Longitude\"]\n",
    "venue_info_df = pd.DataFrame(columns = column_names)\n",
    "for key in value.keys():\n",
    "    r = requests.get(\"https://api.songkick.com/api/3.0/search/venues.json?query={\"+key+\"}&apikey=\" + str(api_key))\n",
    "    venueLat = r.json()['resultsPage']['results']['venue'][0]['lat']\n",
    "    venueLng = r.json()['resultsPage']['results']['venue'][0]['lng']\n",
    "    #not including venues that have no data for now\n",
    "    if(venueLat == None):\n",
    "        venueLat = None\n",
    "    else:\n",
    "        venue_info_df = venue_info_df.append({'Venue':key,'Latitude':venueLat,'Longitude':venueLng}, ignore_index=True)\n",
    "venue_info_df = venue_info_df.set_index(\"Venue\")\n",
    "venue_info_df"
   ]
  },
  {
   "cell_type": "markdown",
   "metadata": {},
   "source": [
    "#### Get Lat and Long of Starting Point"
   ]
  },
  {
   "cell_type": "code",
   "execution_count": 91,
   "metadata": {},
   "outputs": [],
   "source": [
    "startingPoint = \"2619 Palmer Avenue, New Orleans, LA\"\n",
    "locator = Nominatim(user_agent=\"myGeocoder\")\n",
    "location = locator.geocode(startingPoint)\n",
    "startingLat = location.latitude\n",
    "startingLng =location.longitude"
   ]
  },
  {
   "cell_type": "markdown",
   "metadata": {},
   "source": [
    "#### Function to calculate distance between two venues based on lat and long"
   ]
  },
  {
   "cell_type": "code",
   "execution_count": 92,
   "metadata": {},
   "outputs": [],
   "source": [
    "\n",
    "def distance_on_earth(lat1, long1, lat2, long2, radius=6378.388):\n",
    "    \"\"\"\n",
    "    Compute distance between two points on earth specified by latitude/longitude.\n",
    "    The earth is assumed to be a perfect sphere of given radius. The radius defaults\n",
    "    to 6378.388 kilometers. To convert to miles, divide by 1.60934\n",
    "    \n",
    "    Reference\n",
    "    ---------\n",
    "    Adopted from John D. Cook's blog post: \n",
    "    http://www.johndcook.com/blog/python_longitude_latitude/\n",
    "    \"\"\"\n",
    "    # Convert latitude and longitude to spherical coordinates in radians.\n",
    "    degrees_to_radians = np.pi / 180.0\n",
    "\n",
    "    # phi = 90 - latitude\n",
    "    phi1 = (90.0 - lat1) * degrees_to_radians\n",
    "    phi2 = (90.0 - lat2) * degrees_to_radians\n",
    "\n",
    "    # theta = longitude\n",
    "    theta1 = long1 * degrees_to_radians\n",
    "    theta2 = long2 * degrees_to_radians\n",
    "         \n",
    "    # Compute spherical distance from spherical coordinates.     \n",
    "    cos = (np.sin(phi1) * np.sin(phi2)* np.cos(theta1 - theta2) + \n",
    "           np.cos(phi1) * np.cos(phi2))\n",
    "    arc = np.arccos(cos)\n",
    "    rv = arc * radius\n",
    "    return rv"
   ]
  },
  {
   "cell_type": "markdown",
   "metadata": {},
   "source": [
    "#### Get distances between each venue and create distance matrix"
   ]
  },
  {
   "cell_type": "code",
   "execution_count": 112,
   "metadata": {},
   "outputs": [],
   "source": [
    "mile_in_km = 1.60934\n",
    "distances = {}\n",
    "for i in range(len(venue_info_df.index)):\n",
    "    a = venue_info_df.index[i]\n",
    "    distances[a] = {}\n",
    "    for j in range(len(venue_info_df.index)):\n",
    "        b = venue_info_df.index[j]\n",
    "        if j == i:\n",
    "            distances[a][b] = 0.\n",
    "        elif j > i:\n",
    "            distances[a][b] = distance_on_earth(venue_info_df['Latitude'][a],\n",
    "                                                venue_info_df['Longitude'][a],\n",
    "                                                venue_info_df['Latitude'][b],\n",
    "                                                venue_info_df['Longitude'][b])\n",
    "        else:\n",
    "            distances[a][b] = distances[b][a]\n",
    "distances = (pd.DataFrame(distances)/mile_in_km)"
   ]
  },
  {
   "cell_type": "code",
   "execution_count": 113,
   "metadata": {},
   "outputs": [
    {
     "data": {
      "text/html": [
       "<div>\n",
       "<style scoped>\n",
       "    .dataframe tbody tr th:only-of-type {\n",
       "        vertical-align: middle;\n",
       "    }\n",
       "\n",
       "    .dataframe tbody tr th {\n",
       "        vertical-align: top;\n",
       "    }\n",
       "\n",
       "    .dataframe thead th {\n",
       "        text-align: right;\n",
       "    }\n",
       "</style>\n",
       "<table border=\"1\" class=\"dataframe\">\n",
       "  <thead>\n",
       "    <tr style=\"text-align: right;\">\n",
       "      <th></th>\n",
       "      <th>Joy Theater</th>\n",
       "      <th>House of Blues - New Orleans presented by Cricket Wireless</th>\n",
       "      <th>One Eyed Jacks</th>\n",
       "      <th>Fillmore New Orleans</th>\n",
       "      <th>Tipitina's</th>\n",
       "      <th>UNO Lakefront Arena</th>\n",
       "      <th>Southport Hall</th>\n",
       "    </tr>\n",
       "  </thead>\n",
       "  <tbody>\n",
       "    <tr>\n",
       "      <th>Joy Theater</th>\n",
       "      <td>0.000000</td>\n",
       "      <td>0.507903</td>\n",
       "      <td>0.557734</td>\n",
       "      <td>1.571073</td>\n",
       "      <td>3.116136</td>\n",
       "      <td>5.214492</td>\n",
       "      <td>3.742444</td>\n",
       "    </tr>\n",
       "    <tr>\n",
       "      <th>House of Blues - New Orleans presented by Cricket Wireless</th>\n",
       "      <td>0.507903</td>\n",
       "      <td>0.000000</td>\n",
       "      <td>0.281054</td>\n",
       "      <td>1.375202</td>\n",
       "      <td>3.227987</td>\n",
       "      <td>5.312496</td>\n",
       "      <td>4.208664</td>\n",
       "    </tr>\n",
       "    <tr>\n",
       "      <th>One Eyed Jacks</th>\n",
       "      <td>0.557734</td>\n",
       "      <td>0.281054</td>\n",
       "      <td>0.000000</td>\n",
       "      <td>1.653982</td>\n",
       "      <td>3.489539</td>\n",
       "      <td>5.034796</td>\n",
       "      <td>4.298141</td>\n",
       "    </tr>\n",
       "    <tr>\n",
       "      <th>Fillmore New Orleans</th>\n",
       "      <td>1.571073</td>\n",
       "      <td>1.375202</td>\n",
       "      <td>1.653982</td>\n",
       "      <td>0.000000</td>\n",
       "      <td>2.156601</td>\n",
       "      <td>6.687634</td>\n",
       "      <td>4.223947</td>\n",
       "    </tr>\n",
       "    <tr>\n",
       "      <th>Tipitina's</th>\n",
       "      <td>3.116136</td>\n",
       "      <td>3.227987</td>\n",
       "      <td>3.489539</td>\n",
       "      <td>2.156601</td>\n",
       "      <td>0.000000</td>\n",
       "      <td>8.248915</td>\n",
       "      <td>3.314745</td>\n",
       "    </tr>\n",
       "    <tr>\n",
       "      <th>UNO Lakefront Arena</th>\n",
       "      <td>5.214492</td>\n",
       "      <td>5.312496</td>\n",
       "      <td>5.034796</td>\n",
       "      <td>6.687634</td>\n",
       "      <td>8.248915</td>\n",
       "      <td>0.000000</td>\n",
       "      <td>7.229391</td>\n",
       "    </tr>\n",
       "    <tr>\n",
       "      <th>Southport Hall</th>\n",
       "      <td>3.742444</td>\n",
       "      <td>4.208664</td>\n",
       "      <td>4.298141</td>\n",
       "      <td>4.223947</td>\n",
       "      <td>3.314745</td>\n",
       "      <td>7.229391</td>\n",
       "      <td>0.000000</td>\n",
       "    </tr>\n",
       "  </tbody>\n",
       "</table>\n",
       "</div>"
      ],
      "text/plain": [
       "                                                    Joy Theater  \\\n",
       "Joy Theater                                            0.000000   \n",
       "House of Blues - New Orleans presented by Crick...     0.507903   \n",
       "One Eyed Jacks                                         0.557734   \n",
       "Fillmore New Orleans                                   1.571073   \n",
       "Tipitina's                                             3.116136   \n",
       "UNO Lakefront Arena                                    5.214492   \n",
       "Southport Hall                                         3.742444   \n",
       "\n",
       "                                                    House of Blues - New Orleans presented by Cricket Wireless  \\\n",
       "Joy Theater                                                                                  0.507903            \n",
       "House of Blues - New Orleans presented by Crick...                                           0.000000            \n",
       "One Eyed Jacks                                                                               0.281054            \n",
       "Fillmore New Orleans                                                                         1.375202            \n",
       "Tipitina's                                                                                   3.227987            \n",
       "UNO Lakefront Arena                                                                          5.312496            \n",
       "Southport Hall                                                                               4.208664            \n",
       "\n",
       "                                                    One Eyed Jacks  \\\n",
       "Joy Theater                                               0.557734   \n",
       "House of Blues - New Orleans presented by Crick...        0.281054   \n",
       "One Eyed Jacks                                            0.000000   \n",
       "Fillmore New Orleans                                      1.653982   \n",
       "Tipitina's                                                3.489539   \n",
       "UNO Lakefront Arena                                       5.034796   \n",
       "Southport Hall                                            4.298141   \n",
       "\n",
       "                                                    Fillmore New Orleans  \\\n",
       "Joy Theater                                                     1.571073   \n",
       "House of Blues - New Orleans presented by Crick...              1.375202   \n",
       "One Eyed Jacks                                                  1.653982   \n",
       "Fillmore New Orleans                                            0.000000   \n",
       "Tipitina's                                                      2.156601   \n",
       "UNO Lakefront Arena                                             6.687634   \n",
       "Southport Hall                                                  4.223947   \n",
       "\n",
       "                                                    Tipitina's  \\\n",
       "Joy Theater                                           3.116136   \n",
       "House of Blues - New Orleans presented by Crick...    3.227987   \n",
       "One Eyed Jacks                                        3.489539   \n",
       "Fillmore New Orleans                                  2.156601   \n",
       "Tipitina's                                            0.000000   \n",
       "UNO Lakefront Arena                                   8.248915   \n",
       "Southport Hall                                        3.314745   \n",
       "\n",
       "                                                    UNO Lakefront Arena  \\\n",
       "Joy Theater                                                    5.214492   \n",
       "House of Blues - New Orleans presented by Crick...             5.312496   \n",
       "One Eyed Jacks                                                 5.034796   \n",
       "Fillmore New Orleans                                           6.687634   \n",
       "Tipitina's                                                     8.248915   \n",
       "UNO Lakefront Arena                                            0.000000   \n",
       "Southport Hall                                                 7.229391   \n",
       "\n",
       "                                                    Southport Hall  \n",
       "Joy Theater                                               3.742444  \n",
       "House of Blues - New Orleans presented by Crick...        4.208664  \n",
       "One Eyed Jacks                                            4.298141  \n",
       "Fillmore New Orleans                                      4.223947  \n",
       "Tipitina's                                                3.314745  \n",
       "UNO Lakefront Arena                                       7.229391  \n",
       "Southport Hall                                            0.000000  "
      ]
     },
     "execution_count": 113,
     "metadata": {},
     "output_type": "execute_result"
    }
   ],
   "source": [
    "distances"
   ]
  },
  {
   "cell_type": "code",
   "execution_count": 114,
   "metadata": {},
   "outputs": [
    {
     "name": "stdout",
     "output_type": "stream",
     "text": [
      "Requirement already satisfied: python-tsp in /opt/conda/lib/python3.8/site-packages (0.1.0)\r\n",
      "Requirement already satisfied: numpy<2.0.0,>=1.18.5 in /opt/conda/lib/python3.8/site-packages (from python-tsp) (1.20.0)\r\n"
     ]
    }
   ],
   "source": [
    "!pip install python-tsp"
   ]
  },
  {
   "cell_type": "markdown",
   "metadata": {},
   "source": [
    "#### Use python-tsp library to solve tsp with dynamic programming"
   ]
  },
  {
   "cell_type": "code",
   "execution_count": 116,
   "metadata": {},
   "outputs": [
    {
     "data": {
      "text/plain": [
       "array([[ 29.95601  , -90.07398  ],\n",
       "       [ 29.95316  , -90.06617  ],\n",
       "       [ 29.957032 , -90.064749 ],\n",
       "       [ 29.93356  , -90.07001  ],\n",
       "       [ 29.91741  , -90.10078  ],\n",
       "       [ 30.02901  , -90.05227  ],\n",
       "       [ 29.9540748, -90.1363836]])"
      ]
     },
     "execution_count": 116,
     "metadata": {},
     "output_type": "execute_result"
    }
   ],
   "source": [
    "import numpy as np\n",
    "from python_tsp.distances import great_circle_distance_matrix\n",
    "from python_tsp.exact import solve_tsp_dynamic_programming\n",
    "\n",
    "arr = []\n",
    "for i in range(len(venue_info_df.index)):\n",
    "    arr.append([venue_info_df['Latitude'][venue_info_df.index][i],venue_info_df['Longitude'][venue_info_df.index][i]])\n",
    "sources = np.array(arr)\n",
    "sources"
   ]
  },
  {
   "cell_type": "code",
   "execution_count": 117,
   "metadata": {},
   "outputs": [],
   "source": [
    "distance_matrix = great_circle_distance_matrix(sources)"
   ]
  },
  {
   "cell_type": "code",
   "execution_count": 118,
   "metadata": {},
   "outputs": [
    {
     "data": {
      "text/plain": [
       "array([[    0.        ,   816.44208666,   896.54408143,  2525.46254479,\n",
       "         5009.11436569,  8382.17001632,  6015.88902846],\n",
       "       [  816.44208666,     0.        ,   451.78793766,  2210.60384899,\n",
       "         5188.91151297,  8539.7095493 ,  6765.325962  ],\n",
       "       [  896.54408143,   451.78793766,     0.        ,  2658.73614543,\n",
       "         5609.349984  ,  8093.31260312,  6909.15893362],\n",
       "       [ 2525.46254479,  2210.60384899,  2658.73614543,     0.        ,\n",
       "         3466.68392101, 10750.21031987,  6789.89303834],\n",
       "       [ 5009.11436569,  5188.91151297,  5609.349984  ,  3466.68392101,\n",
       "            0.        , 13259.9316267 ,  5328.37237671],\n",
       "       [ 8382.17001632,  8539.7095493 ,  8093.31260312, 10750.21031987,\n",
       "        13259.9316267 ,     0.        , 11621.07222359],\n",
       "       [ 6015.88902846,  6765.325962  ,  6909.15893362,  6789.89303834,\n",
       "         5328.37237671, 11621.07222359,     0.        ]])"
      ]
     },
     "execution_count": 118,
     "metadata": {},
     "output_type": "execute_result"
    }
   ],
   "source": [
    "distance_matrix"
   ]
  },
  {
   "cell_type": "code",
   "execution_count": 119,
   "metadata": {},
   "outputs": [
    {
     "data": {
      "text/plain": [
       "32303.13369354075"
      ]
     },
     "execution_count": 119,
     "metadata": {},
     "output_type": "execute_result"
    }
   ],
   "source": [
    "permutation, distance = solve_tsp_dynamic_programming(distance_matrix)\n",
    "distance"
   ]
  },
  {
   "cell_type": "code",
   "execution_count": 120,
   "metadata": {},
   "outputs": [
    {
     "data": {
      "text/plain": [
       "20.076528087968146"
      ]
     },
     "execution_count": 120,
     "metadata": {},
     "output_type": "execute_result"
    }
   ],
   "source": [
    "#convert distance from km to miles\n",
    "distance = distance/1609\n",
    "distance"
   ]
  },
  {
   "cell_type": "code",
   "execution_count": 121,
   "metadata": {},
   "outputs": [
    {
     "data": {
      "text/plain": [
       "[0, 3, 4, 6, 5, 2, 1]"
      ]
     },
     "execution_count": 121,
     "metadata": {},
     "output_type": "execute_result"
    }
   ],
   "source": [
    "permutation"
   ]
  },
  {
   "cell_type": "code",
   "execution_count": 122,
   "metadata": {},
   "outputs": [],
   "source": [
    "s = pd.Series(permutation)"
   ]
  },
  {
   "cell_type": "code",
   "execution_count": 123,
   "metadata": {},
   "outputs": [],
   "source": [
    "mappingDict = {}\n",
    "for i in range(len(s)):\n",
    "    mappingDict[i] = venue_info_df.index[i]\n"
   ]
  },
  {
   "cell_type": "code",
   "execution_count": 124,
   "metadata": {},
   "outputs": [],
   "source": [
    "s = s.map(mappingDict)"
   ]
  },
  {
   "cell_type": "code",
   "execution_count": 125,
   "metadata": {
    "scrolled": true
   },
   "outputs": [],
   "source": [
    "optimalPath = s.tolist()"
   ]
  },
  {
   "cell_type": "markdown",
   "metadata": {},
   "source": [
    "### Tank and The Bangs Optimal Tour Path in New Orleans"
   ]
  },
  {
   "cell_type": "markdown",
   "metadata": {},
   "source": [
    "##### optimal path"
   ]
  },
  {
   "cell_type": "code",
   "execution_count": 126,
   "metadata": {},
   "outputs": [
    {
     "data": {
      "text/plain": [
       "['Joy Theater',\n",
       " 'Fillmore New Orleans',\n",
       " \"Tipitina's\",\n",
       " 'Southport Hall',\n",
       " 'UNO Lakefront Arena',\n",
       " 'One Eyed Jacks',\n",
       " 'House of Blues - New Orleans presented by Cricket Wireless']"
      ]
     },
     "execution_count": 126,
     "metadata": {},
     "output_type": "execute_result"
    }
   ],
   "source": [
    "optimalPath"
   ]
  },
  {
   "cell_type": "markdown",
   "metadata": {},
   "source": [
    "##### total distance in miles"
   ]
  },
  {
   "cell_type": "code",
   "execution_count": 127,
   "metadata": {},
   "outputs": [
    {
     "data": {
      "text/plain": [
       "20.076528087968146"
      ]
     },
     "execution_count": 127,
     "metadata": {},
     "output_type": "execute_result"
    }
   ],
   "source": [
    "distance"
   ]
  },
  {
   "cell_type": "code",
   "execution_count": null,
   "metadata": {},
   "outputs": [],
   "source": []
  }
 ],
 "metadata": {
  "kernelspec": {
   "display_name": "Python 3",
   "language": "python",
   "name": "python3"
  },
  "language_info": {
   "codemirror_mode": {
    "name": "ipython",
    "version": 3
   },
   "file_extension": ".py",
   "mimetype": "text/x-python",
   "name": "python",
   "nbconvert_exporter": "python",
   "pygments_lexer": "ipython3",
   "version": "3.8.6"
  }
 },
 "nbformat": 4,
 "nbformat_minor": 2
}
