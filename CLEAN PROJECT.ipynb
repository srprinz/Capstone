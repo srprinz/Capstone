{
 "cells": [
  {
   "cell_type": "code",
   "execution_count": 1,
   "metadata": {},
   "outputs": [
    {
     "name": "stdout",
     "output_type": "stream",
     "text": [
      "Requirement already satisfied: spotipy in /opt/conda/lib/python3.8/site-packages (2.17.1)\n",
      "Requirement already satisfied: six>=1.15.0 in /opt/conda/lib/python3.8/site-packages (from spotipy) (1.15.0)\n",
      "Requirement already satisfied: requests>=2.25.0 in /opt/conda/lib/python3.8/site-packages (from spotipy) (2.25.1)\n",
      "Requirement already satisfied: urllib3>=1.26.0 in /opt/conda/lib/python3.8/site-packages (from spotipy) (1.26.3)\n",
      "Requirement already satisfied: idna<3,>=2.5 in /opt/conda/lib/python3.8/site-packages (from requests>=2.25.0->spotipy) (2.10)\n",
      "Requirement already satisfied: chardet<5,>=3.0.2 in /opt/conda/lib/python3.8/site-packages (from requests>=2.25.0->spotipy) (4.0.0)\n",
      "Requirement already satisfied: certifi>=2017.4.17 in /opt/conda/lib/python3.8/site-packages (from requests>=2.25.0->spotipy) (2020.12.5)\n",
      "Requirement already satisfied: geopandas in /opt/conda/lib/python3.8/site-packages (0.9.0)\n",
      "Requirement already satisfied: shapely>=1.6 in /opt/conda/lib/python3.8/site-packages (from geopandas) (1.7.1)\n",
      "Requirement already satisfied: pandas>=0.24.0 in /opt/conda/lib/python3.8/site-packages (from geopandas) (1.2.1)\n",
      "Requirement already satisfied: fiona>=1.8 in /opt/conda/lib/python3.8/site-packages (from geopandas) (1.8.19)\n",
      "Requirement already satisfied: pyproj>=2.2.0 in /opt/conda/lib/python3.8/site-packages (from geopandas) (3.0.1)\n",
      "Requirement already satisfied: certifi in /opt/conda/lib/python3.8/site-packages (from fiona>=1.8->geopandas) (2020.12.5)\n",
      "Requirement already satisfied: click-plugins>=1.0 in /opt/conda/lib/python3.8/site-packages (from fiona>=1.8->geopandas) (1.1.1)\n",
      "Requirement already satisfied: attrs>=17 in /opt/conda/lib/python3.8/site-packages (from fiona>=1.8->geopandas) (20.3.0)\n",
      "Requirement already satisfied: click<8,>=4.0 in /opt/conda/lib/python3.8/site-packages (from fiona>=1.8->geopandas) (7.1.2)\n",
      "Requirement already satisfied: six>=1.7 in /opt/conda/lib/python3.8/site-packages (from fiona>=1.8->geopandas) (1.15.0)\n",
      "Requirement already satisfied: munch in /opt/conda/lib/python3.8/site-packages (from fiona>=1.8->geopandas) (2.5.0)\n",
      "Requirement already satisfied: cligj>=0.5 in /opt/conda/lib/python3.8/site-packages (from fiona>=1.8->geopandas) (0.7.1)\n",
      "Requirement already satisfied: python-dateutil>=2.7.3 in /opt/conda/lib/python3.8/site-packages (from pandas>=0.24.0->geopandas) (2.8.1)\n",
      "Requirement already satisfied: pytz>=2017.3 in /opt/conda/lib/python3.8/site-packages (from pandas>=0.24.0->geopandas) (2021.1)\n",
      "Requirement already satisfied: numpy>=1.16.5 in /opt/conda/lib/python3.8/site-packages (from pandas>=0.24.0->geopandas) (1.20.0)\n",
      "Requirement already satisfied: geopy in /opt/conda/lib/python3.8/site-packages (2.1.0)\n",
      "Requirement already satisfied: geographiclib<2,>=1.49 in /opt/conda/lib/python3.8/site-packages (from geopy) (1.50)\n",
      "Requirement already satisfied: requests in /opt/conda/lib/python3.8/site-packages (2.25.1)\n",
      "Requirement already satisfied: urllib3<1.27,>=1.21.1 in /opt/conda/lib/python3.8/site-packages (from requests) (1.26.3)\n",
      "Requirement already satisfied: chardet<5,>=3.0.2 in /opt/conda/lib/python3.8/site-packages (from requests) (4.0.0)\n",
      "Requirement already satisfied: idna<3,>=2.5 in /opt/conda/lib/python3.8/site-packages (from requests) (2.10)\n",
      "Requirement already satisfied: certifi>=2017.4.17 in /opt/conda/lib/python3.8/site-packages (from requests) (2020.12.5)\n",
      "Requirement already satisfied: lxml in /opt/conda/lib/python3.8/site-packages (4.6.3)\n",
      "Requirement already satisfied: pandas in /opt/conda/lib/python3.8/site-packages (1.2.1)\n",
      "Requirement already satisfied: python-dateutil>=2.7.3 in /opt/conda/lib/python3.8/site-packages (from pandas) (2.8.1)\n",
      "Requirement already satisfied: pytz>=2017.3 in /opt/conda/lib/python3.8/site-packages (from pandas) (2021.1)\n",
      "Requirement already satisfied: numpy>=1.16.5 in /opt/conda/lib/python3.8/site-packages (from pandas) (1.20.0)\n",
      "Requirement already satisfied: six>=1.5 in /opt/conda/lib/python3.8/site-packages (from python-dateutil>=2.7.3->pandas) (1.15.0)\n",
      "Requirement already satisfied: numpy in /opt/conda/lib/python3.8/site-packages (1.20.0)\n",
      "Requirement already satisfied: gmplot in /opt/conda/lib/python3.8/site-packages (1.4.1)\n",
      "Requirement already satisfied: requests in /opt/conda/lib/python3.8/site-packages (from gmplot) (2.25.1)\n",
      "Requirement already satisfied: certifi>=2017.4.17 in /opt/conda/lib/python3.8/site-packages (from requests->gmplot) (2020.12.5)\n",
      "Requirement already satisfied: chardet<5,>=3.0.2 in /opt/conda/lib/python3.8/site-packages (from requests->gmplot) (4.0.0)\n",
      "Requirement already satisfied: idna<3,>=2.5 in /opt/conda/lib/python3.8/site-packages (from requests->gmplot) (2.10)\n",
      "Requirement already satisfied: urllib3<1.27,>=1.21.1 in /opt/conda/lib/python3.8/site-packages (from requests->gmplot) (1.26.3)\n"
     ]
    }
   ],
   "source": [
    "!pip install spotipy\n",
    "!pip install geopandas\n",
    "!pip install geopy\n",
    "!pip install requests\n",
    "!pip install lxml\n",
    "!pip install pandas\n",
    "!pip install numpy\n",
    "!pip install gmplot"
   ]
  },
  {
   "cell_type": "code",
   "execution_count": 2,
   "metadata": {},
   "outputs": [],
   "source": [
    "import requests\n",
    "import spotipy\n",
    "import geopandas\n",
    "import geopy\n",
    "from spotipy.oauth2 import SpotifyClientCredentials \n",
    "import requests\n",
    "from lxml import html\n",
    "import re\n",
    "import pandas as pd\n",
    "import numpy as np\n",
    "import math\n",
    "from geopy.geocoders import Nominatim"
   ]
  },
  {
   "cell_type": "markdown",
   "metadata": {},
   "source": [
    "## Spotify Scraper"
   ]
  },
  {
   "cell_type": "markdown",
   "metadata": {},
   "source": [
    "### Connect to Spotify API"
   ]
  },
  {
   "cell_type": "code",
   "execution_count": 3,
   "metadata": {},
   "outputs": [],
   "source": [
    "client_id = '693faf0bce4f4fb0aa5fc5d8b3cc0b25'\n",
    "client_secret = 'c2ab38a172f44774a0cfae1d7734130f'\n",
    "client_credentials_manager = SpotifyClientCredentials(client_id=client_id, client_secret=client_secret)\n",
    "sp = spotipy.Spotify(client_credentials_manager=client_credentials_manager) "
   ]
  },
  {
   "cell_type": "markdown",
   "metadata": {},
   "source": [
    "### Scraper Functions\n",
    "get_artistID_by_artistName - check for reliability, better search"
   ]
  },
  {
   "cell_type": "code",
   "execution_count": 4,
   "metadata": {},
   "outputs": [],
   "source": [
    "#not deemed reliable yet\n",
    "def get_artistID_by_artistName(artistName):\n",
    "        artist = sp.search(q=artistName, type=\"artist\")\n",
    "        #print(artist)\n",
    "        artistObject = artist['artists']['items']\n",
    "        if len(artistObject) == 0:\n",
    "            return \"NOT IN SPOTIFY\"\n",
    "        else:\n",
    "            artistID = artistObject[0]['id']\n",
    "            #print('AID: ', artistID)\n",
    "            return artistID;\n",
    "\n",
    "def get_genre(artistID):\n",
    "    #navigate to artist\n",
    "    artist = sp.artist(artistID)\n",
    "    #Obtain genre\n",
    "    genres = artist['genres']\n",
    "    if len(genres) == 0:\n",
    "        return 'NONE'\n",
    "    else:\n",
    "        return genres\n",
    "\n",
    "def get_followers(artistID):\n",
    "    #navigate to artist\n",
    "    artist = sp.artist(artistID)\n",
    "    #Obtain follower count\n",
    "    followers = int(artist['followers']['total'])\n",
    "    return followers\n",
    "\n",
    "def get_monthlyListeners(artistID):\n",
    "    r = requests.get('https://open.spotify.com/artist/{}'.format(artistID), timeout=10)\n",
    "    match = re.search(r'Monthly Listeners', r.text)\n",
    "    print(r.text)\n",
    "    #get monthly listeners starting point\n",
    "    string = r.text[match.start():]\n",
    "    #split at colon\n",
    "    strings = string.split(':')\n",
    "    strings1 = strings[1].split(',')\n",
    "    monthlyListeners = strings1[0].split(\",\")\n",
    "    #grab second string\n",
    "    return int(monthlyListeners[0].lstrip())\n",
    "\n",
    "def get_cities(artistID):\n",
    "    r = requests.get('https://open.spotify.com/artist/{}'.format(artistID), timeout=10)\n",
    "    match = re.search(r'Where People Listen', r.text)\n",
    "    #get where people listen starting point\n",
    "    string = r.text[match.start():]\n",
    "    #split at colon\n",
    "    strings = string.split(':')\n",
    "    strings1 = strings[1].split('\"')\n",
    "    cities = strings1[0].split(\",\")\n",
    "    #grab second string\n",
    "    return cities"
   ]
  },
  {
   "cell_type": "markdown",
   "metadata": {},
   "source": [
    "## Songkick Scraper"
   ]
  },
  {
   "cell_type": "markdown",
   "metadata": {},
   "source": [
    "### Connect to Songkick API"
   ]
  },
  {
   "cell_type": "code",
   "execution_count": 5,
   "metadata": {},
   "outputs": [],
   "source": [
    "# Define API Key\n",
    "api_key = \"FYSeGSNlg6HXIfAr\""
   ]
  },
  {
   "cell_type": "markdown",
   "metadata": {},
   "source": [
    "### Scraper Functions\n",
    "\n",
    "get_venueArtists: add in festival/lineup capabilities\n",
    "\n",
    "get_venueGenres: clean up mapping\n",
    "\n",
    "get_venueSize: Decide how to use followers/listeners, fix metric (within the 30-60 percentile?), regression using Songkick Venue Capacity?"
   ]
  },
  {
   "cell_type": "code",
   "execution_count": 6,
   "metadata": {},
   "outputs": [],
   "source": [
    "venue_latLong_info = pd.DataFrame()\n",
    "def get_venueArtists(metroID):\n",
    "    global venue_latLong_info\n",
    "    venue_latLong_info = pd.DataFrame(columns = ['Venue', 'Latitude', 'Longitude'])\n",
    "\n",
    "    # request json\n",
    "    r = requests.get(\"https://api.songkick.com/api/3.0/metro_areas/\"+ str(metroID) +\"/calendar.json?apikey=\" + str(api_key))\n",
    "    # parse for events\n",
    "    events = r.json()[\"resultsPage\"][\"results\"][\"event\"]\n",
    "    # define dictionary for storage\n",
    "    venue_artist_dict = {}\n",
    "    #loop through events\n",
    "    for i in range(len(events)):\n",
    "        # The artist\n",
    "        if events[i][\"performance\"] != []:\n",
    "            artist = events[i][\"performance\"][0][\"artist\"][\"displayName\"]\n",
    "        else:\n",
    "            artist = events[i][\"displayName\"]\n",
    "        # Venue Name\n",
    "        venue = events[i][\"venue\"][\"displayName\"]\n",
    "        venueLat = events[i][\"venue\"][\"lat\"]\n",
    "        venueLng = events[i][\"venue\"][\"lng\"]\n",
    "\n",
    "       # venueLat = events[i][\"venue\"][\"lat\"]\n",
    "        # venueLong = events[i][\"venue\"][\"lng\"]\n",
    "        if(venueLat == None):\n",
    "                venueLat = None\n",
    "        else:\n",
    "                venue_latLong_info = venue_latLong_info.append({'Venue':str(venue),'Latitude':venueLat,'Longitude':venueLng}, ignore_index=True)\n",
    "        # if the venue is not already in dict, add it with the artist as its value\n",
    "        if venue not in venue_artist_dict.keys():\n",
    "            venue_artist_dict[venue] = [artist]\n",
    "        # if it is in the dict, add the act to its \n",
    "        else:\n",
    "            if artist not in venue_artist_dict[venue]:\n",
    "                venue_artist_dict[venue].append(artist)\n",
    "    return venue_artist_dict\n",
    "\n",
    "def get_venueGenres(venue_artist_dict):\n",
    "    venue_genre_dict = {}\n",
    "    # loop through venues\n",
    "    for venue in venue_artist_dict.keys():\n",
    "        # loop through artists at each venue\n",
    "        genre_list = []\n",
    "        for artist in venue_artist_dict[venue]:\n",
    "            #get artist id\n",
    "            id_return = get_artistID_by_artistName(artist)\n",
    "            # if its too small of an artist, ignore it\n",
    "            if id_return == 'NOT IN SPOTIFY':\n",
    "                artist_genre = 'NONE'\n",
    "                # get the genre of artists in spotify\n",
    "            else:\n",
    "                artist_genre = get_genre(id_return)\n",
    "                print\n",
    "                mapped_genre=-1\n",
    "                # replace the genre with a code... NEED TO CLEAN UP\n",
    "                if any(\"funk\" in s for s in artist_genre):\n",
    "                    mapped_genre = 0\n",
    "                if any(\"rock\" in s for s in artist_genre):\n",
    "                    mapped_genre = 1 \n",
    "                if any(\"punk\" in s for s in artist_genre):\n",
    "                    mapped_genre = 1\n",
    "                if any(\"reggae\" in s for s in artist_genre):\n",
    "                    mapped_genre = 2\n",
    "                if any(\"r&b\" in s for s in artist_genre):\n",
    "                    mapped_genre = 3\n",
    "                if any(\"soul\" in s for s in artist_genre):\n",
    "                    mapped_genre = 3\n",
    "                if any(\"rap\" in s for s in artist_genre):\n",
    "                    mapped_genre = 4\n",
    "                if any(\"bounce\" in s for s in artist_genre):\n",
    "                    mapped_genre = 4\n",
    "                if any(\"pop\" in s for s in artist_genre):\n",
    "                    mapped_genre = 5\n",
    "                if any(\"jazz\" in s for s in artist_genre):\n",
    "                    mapped_genre = 6\n",
    "                if any(\"electronic\" in s for s in artist_genre):\n",
    "                    mapped_genre = 7\n",
    "                if any(\"indie\" in s for s in artist_genre):\n",
    "                    mapped_genre = 8\n",
    "                if any(\"country\" in s for s in artist_genre):\n",
    "                    mapped_genre = 9\n",
    "                if any(\"cajun\" in s for s in artist_genre):\n",
    "                    mapped_genre = 9\n",
    "                # add genre to list\n",
    "                genre_list.append(mapped_genre)\n",
    "        # assign genres to venue\n",
    "        venue_genre_dict[venue] = list(set([x for x in genre_list if x != -1]))\n",
    "    # return dictionary\n",
    "    return venue_genre_dict\n",
    "\n",
    "def get_venueSize(venue_artist_dict):\n",
    "    venue_size_dict = {}\n",
    "    # loop through venues\n",
    "    for venue in venue_artist_dict.keys():\n",
    "        # loop through artists at each venue\n",
    "        size_list = []\n",
    "        for artist in venue_artist_dict[venue]:\n",
    "            #get artist id\n",
    "            id_return = get_artistID_by_artistName(artist)\n",
    "            # if its too small of an artist, its size is basically 0\n",
    "            if id_return == 'NOT IN SPOTIFY':\n",
    "                size_list.append(0)\n",
    "            # get their followers\n",
    "            else:\n",
    "                artist_followers = get_followers(id_return)\n",
    "                size_list.append(artist_followers)\n",
    "        venue_size_dict[venue] = np.mean(np.array(size_list))\n",
    "    return venue_size_dict"
   ]
  },
  {
   "cell_type": "code",
   "execution_count": 7,
   "metadata": {},
   "outputs": [],
   "source": [
    "#get requested city id\n",
    "#example\n",
    "\n",
    "\n",
    "cityIDs = []\n",
    "def get_city_id(locations):\n",
    "    cityIDs = []\n",
    "    for i in range(len(locations)):\n",
    "        r = requests.get(\"https://api.songkick.com/api/3.0/search/locations.json?query=\" + locations[i] + \"&apikey=\" + str(api_key))\n",
    "        cityID = r.json()[\"resultsPage\"][\"results\"][\"location\"][0][\"metroArea\"][\"id\"]\n",
    "        cityIDs.append(cityID)\n",
    "    return cityIDs\n"
   ]
  },
  {
   "cell_type": "markdown",
   "metadata": {},
   "source": [
    "## Matching Functions\n",
    "Both: Need to figure out a way to clean it up\n"
   ]
  },
  {
   "cell_type": "code",
   "execution_count": 8,
   "metadata": {},
   "outputs": [],
   "source": [
    "#\n",
    "# FUNCTION TO ADD ELEMENTS TO DICT\n",
    "#\n",
    "def append_value(dict_obj, key, value):\n",
    "    if key in dict_obj:\n",
    "        if not isinstance(dict_obj[key], tuple):\n",
    "            dict_obj[key] = [dict_obj[key]]\n",
    "        dict_obj[key].append(value)\n",
    "    else:\n",
    "        dict_obj[key] = value\n",
    "\n",
    "#\n",
    "# GENRE MATCH FUNCTION\n",
    "# if artist genre identity is a match for venue genre, match (hard constraints)\n",
    "#\n",
    "\n",
    "def genre_match(d, genre_of):\n",
    "    #print('in genre check function')\n",
    "    genre_filtered_dictionary = {}\n",
    "\n",
    "    # iterate through artist's given constraints O(n)\n",
    "    for i in genre_of:\n",
    "        for key, value in d.items():\n",
    "            for j in value:\n",
    "                if i == j:\n",
    "                    append_value(genre_filtered_dictionary, key, value)\n",
    "                else:\n",
    "                    pass\n",
    "\n",
    "    return genre_filtered_dictionary\n",
    "\n",
    "def size_match(d,size_of):\n",
    "    perfect_match_dict={}\n",
    "    for key,value in d.items():\n",
    "        num=value\n",
    "        difference=abs(num-size_of)\n",
    "        per=difference/size_of\n",
    "        percentage1=1-per\n",
    "        if(percentage1>=.4):\n",
    "            perfect_match_dict[key]= round(percentage1, 2)\n",
    "            None\n",
    "    return perfect_match_dict"
   ]
  },
  {
   "cell_type": "markdown",
   "metadata": {},
   "source": [
    "## New Orleans Example"
   ]
  },
  {
   "cell_type": "code",
   "execution_count": 9,
   "metadata": {},
   "outputs": [],
   "source": [
    "#use names from class... THIS PART WILL BE CHANGED!\n",
    "\n",
    "names = [\"Vampire Weekend\",\"The Doobie Brothers\", \"Greta Van Fleet\", \"Tank and the Bangas\", \"Men I Trust\"]\n",
    "def create_df(names):\n",
    "    df = pd.DataFrame({\"band_name\": names})\n",
    "    df[\"id\"] = df.band_name.apply(get_artistID_by_artistName)\n",
    "    df[\"genre\"] = df.id.apply(get_genre)\n",
    "    #df[\"listeners\"] = df.id.apply(get_monthlyListeners)\n",
    "    df[\"followers\"] = df.id.apply(get_followers)\n",
    "    #pd.set_option(\"display.max_rows\", None, \"display.max_columns\", None, 'display.max_colwidth',None)\n",
    "    df['mapped_genre'] = [[] for _ in range(df.shape[0])]\n",
    "\n",
    "    for i in range(df.genre.size):\n",
    "        if any(\"funk\" in s for s in df.genre[i]):\n",
    "            df['mapped_genre'][i].append('0')\n",
    "\n",
    "        if any(\"rock\" in s for s in df.genre[i]):\n",
    "            df['mapped_genre'][i].append('1')\n",
    "\n",
    "        if any(\"punk\" in s for s in df.genre[i]):\n",
    "            df['mapped_genre'][i].append('1')\n",
    "\n",
    "        if any(\"reggae\" in s for s in df.genre[i]):\n",
    "            df['mapped_genre'][i].append('2')\n",
    "\n",
    "        if any(\"r&b\" in s for s in df.genre[i]):\n",
    "            df['mapped_genre'][i].append('3')\n",
    "\n",
    "        if any(\"rap\" in s for s in df.genre[i]):\n",
    "            df['mapped_genre'][i].append('4')\n",
    "\n",
    "        if any(\"pop\" in s for s in df.genre[i]):\n",
    "            df['mapped_genre'][i].append('5')\n",
    "\n",
    "        if any(\"jazz\" in s for s in df.genre[i]):\n",
    "            df['mapped_genre'][i].append('6')\n",
    "\n",
    "        if any(\"electronic\" in s for s in df.genre[i]):\n",
    "            df['mapped_genre'][i].append('7')\n",
    "\n",
    "        if any(\"indie\" in s for s in df.genre[i]):\n",
    "            df['mapped_genre'][i].append('8')\n",
    "\n",
    "        if any(\"country\" in s for s in df.genre[i]):\n",
    "            df['mapped_genre'][i].append('9')\n",
    "    return df\n",
    "df = create_df(names)"
   ]
  },
  {
   "cell_type": "code",
   "execution_count": 10,
   "metadata": {},
   "outputs": [
    {
     "data": {
      "text/html": [
       "<div>\n",
       "<style scoped>\n",
       "    .dataframe tbody tr th:only-of-type {\n",
       "        vertical-align: middle;\n",
       "    }\n",
       "\n",
       "    .dataframe tbody tr th {\n",
       "        vertical-align: top;\n",
       "    }\n",
       "\n",
       "    .dataframe thead th {\n",
       "        text-align: right;\n",
       "    }\n",
       "</style>\n",
       "<table border=\"1\" class=\"dataframe\">\n",
       "  <thead>\n",
       "    <tr style=\"text-align: right;\">\n",
       "      <th></th>\n",
       "      <th>Artist</th>\n",
       "      <th>Artist Genre</th>\n",
       "      <th>Artist Size</th>\n",
       "      <th>Genre Matches</th>\n",
       "      <th>Size Matches</th>\n",
       "      <th>Set</th>\n",
       "    </tr>\n",
       "  </thead>\n",
       "  <tbody>\n",
       "    <tr>\n",
       "      <th>0</th>\n",
       "      <td>Vampire Weekend</td>\n",
       "      <td>[1, 5, 8]</td>\n",
       "      <td>1708405</td>\n",
       "      <td>{'Southport Hall': [4, 5], 'Gasa Gasa': [8, 9]...</td>\n",
       "      <td>{}</td>\n",
       "      <td>NaN</td>\n",
       "    </tr>\n",
       "    <tr>\n",
       "      <th>1</th>\n",
       "      <td>The Doobie Brothers</td>\n",
       "      <td>[1, 9]</td>\n",
       "      <td>1520109</td>\n",
       "      <td>{'Gasa Gasa': [8, 9]}</td>\n",
       "      <td>{}</td>\n",
       "      <td>NaN</td>\n",
       "    </tr>\n",
       "    <tr>\n",
       "      <th>2</th>\n",
       "      <td>Greta Van Fleet</td>\n",
       "      <td>[1]</td>\n",
       "      <td>1401961</td>\n",
       "      <td>{}</td>\n",
       "      <td>{}</td>\n",
       "      <td>NaN</td>\n",
       "    </tr>\n",
       "    <tr>\n",
       "      <th>3</th>\n",
       "      <td>Tank and the Bangas</td>\n",
       "      <td>[0, 8]</td>\n",
       "      <td>160434</td>\n",
       "      <td>{'The Howlin' Wolf': [0, 6], 'Shrine on Airlin...</td>\n",
       "      <td>{'Southport Hall': 0.53, 'Tipitina's': 0.96}</td>\n",
       "      <td>NaN</td>\n",
       "    </tr>\n",
       "    <tr>\n",
       "      <th>4</th>\n",
       "      <td>Men I Trust</td>\n",
       "      <td>[5, 8]</td>\n",
       "      <td>484705</td>\n",
       "      <td>{'Southport Hall': [4, 5], 'Gasa Gasa': [8, 9]...</td>\n",
       "      <td>{'Southport Hall': 0.49}</td>\n",
       "      <td>NaN</td>\n",
       "    </tr>\n",
       "  </tbody>\n",
       "</table>\n",
       "</div>"
      ],
      "text/plain": [
       "                Artist Artist Genre Artist Size  \\\n",
       "0      Vampire Weekend    [1, 5, 8]     1708405   \n",
       "1  The Doobie Brothers       [1, 9]     1520109   \n",
       "2      Greta Van Fleet          [1]     1401961   \n",
       "3  Tank and the Bangas       [0, 8]      160434   \n",
       "4          Men I Trust       [5, 8]      484705   \n",
       "\n",
       "                                       Genre Matches  \\\n",
       "0  {'Southport Hall': [4, 5], 'Gasa Gasa': [8, 9]...   \n",
       "1                              {'Gasa Gasa': [8, 9]}   \n",
       "2                                                 {}   \n",
       "3  {'The Howlin' Wolf': [0, 6], 'Shrine on Airlin...   \n",
       "4  {'Southport Hall': [4, 5], 'Gasa Gasa': [8, 9]...   \n",
       "\n",
       "                                   Size Matches  Set  \n",
       "0                                            {}  NaN  \n",
       "1                                            {}  NaN  \n",
       "2                                            {}  NaN  \n",
       "3  {'Southport Hall': 0.53, 'Tipitina's': 0.96}  NaN  \n",
       "4                      {'Southport Hall': 0.49}  NaN  "
      ]
     },
     "execution_count": 10,
     "metadata": {},
     "output_type": "execute_result"
    }
   ],
   "source": [
    "#\n",
    "# OUTPUT SECTION\n",
    "# change this portion when looking at different bands\n",
    "#\n",
    "cityID = \"11772\"\n",
    "def output_matching_df(cityID, df):\n",
    "    city = get_venueArtists(cityID)\n",
    "    city_venue_genres = get_venueGenres(city)\n",
    "    city_venue_sizes = get_venueSize(city)\n",
    "    column_names = [\"Artist\", \"Artist Genre\", \"Artist Size\", \"Genre Matches\", \"Size Matches\", \"Set\"]\n",
    "    output_df = pd.DataFrame(columns = column_names)\n",
    "\n",
    "    for i in range(0,len(df)):\n",
    "        #get artist genres\n",
    "        artist_genre = []\n",
    "        for j in range(0,len(df.mapped_genre[i])):\n",
    "            artist_genre.append(int(df.mapped_genre[i][j]))\n",
    "\n",
    "        #get artist size\n",
    "        artist_size = df.followers[i]\n",
    "\n",
    "        #calculate genre matches\n",
    "        genre_matches = genre_match(city_venue_genres ,artist_genre)\n",
    "\n",
    "\n",
    "        #calculate size matches\n",
    "        size_matches = size_match(city_venue_sizes ,artist_size)\n",
    "        output_df = output_df.append({'Artist':df.band_name[i],'Artist Genre':artist_genre,\n",
    "                                      'Artist Size':artist_size,'Genre Matches':genre_matches,\n",
    "                                      'Size Matches':size_matches}, ignore_index=True)\n",
    "\n",
    "    return output_df\n",
    "output_matching_df(cityID, df)"
   ]
  },
  {
   "cell_type": "markdown",
   "metadata": {},
   "source": [
    "## Traveling Salesperson Problem/Algorithm (TSP) - Example with Tank and the Bangas"
   ]
  },
  {
   "cell_type": "markdown",
   "metadata": {},
   "source": [
    "### Use python-tsp library functions for TSP"
   ]
  },
  {
   "cell_type": "code",
   "execution_count": 11,
   "metadata": {},
   "outputs": [
    {
     "name": "stdout",
     "output_type": "stream",
     "text": [
      "Requirement already satisfied: python-tsp in /opt/conda/lib/python3.8/site-packages (0.2.0)\r\n",
      "Requirement already satisfied: numpy<2.0.0,>=1.18.5 in /opt/conda/lib/python3.8/site-packages (from python-tsp) (1.20.0)\r\n"
     ]
    }
   ],
   "source": [
    "!pip install python-tsp\n",
    "import numpy as np\n",
    "from python_tsp.exact import solve_tsp_dynamic_programming\n",
    "from python_tsp.distances import great_circle_distance_matrix"
   ]
  },
  {
   "cell_type": "markdown",
   "metadata": {},
   "source": [
    "## Tank and The Bangas tour in New Orleans"
   ]
  },
  {
   "cell_type": "code",
   "execution_count": 12,
   "metadata": {},
   "outputs": [],
   "source": [
    "locations = [\"New Orleans, LA\"]\n",
    "names = [\"Tank and the Bangas\"]"
   ]
  },
  {
   "cell_type": "code",
   "execution_count": 13,
   "metadata": {},
   "outputs": [
    {
     "name": "stdout",
     "output_type": "stream",
     "text": [
      "11772\n",
      "19.05517728940718\n",
      "[\"The Howlin' Wolf\", 'Broadside', 'Shrine on Airline (Zephyr Field)', 'Gasa Gasa', \"Tipitina's\"]\n"
     ]
    }
   ],
   "source": [
    "def oneCityTour(locations, names):\n",
    "    cities = get_city_id(locations)\n",
    "    df = create_df(names)\n",
    "    for cityID in cities:\n",
    "        print(cityID)\n",
    "        arr = []\n",
    "        MatchesList = []\n",
    "        genreDict = output_matching_df(cityID, df).iloc[0]['Genre Matches']\n",
    "        for key in genreDict.keys():\n",
    "            MatchesList.append(key)\n",
    "            venueLat = venue_latLong_info.loc[venue_latLong_info['Venue'] == key, 'Latitude'].values\n",
    "            venueLng = venue_latLong_info.loc[venue_latLong_info['Venue'] == key, 'Longitude'].values\n",
    "            venueLat = venueLat[0]\n",
    "            venueLng = venueLng[0]\n",
    "            arr.append([venueLat, venueLng])\n",
    "        #following functions are from python-tsp library\n",
    "        sources = np.array(arr)\n",
    "        distance_matrix = great_circle_distance_matrix(sources)\n",
    "        permutation, distance = solve_tsp_dynamic_programming(distance_matrix)\n",
    "        distance = distance/1609\n",
    "        print(distance)\n",
    "        permutation\n",
    "        s = pd.Series(permutation)\n",
    "        mappingDict = {}\n",
    "        for i in range(len(s)):\n",
    "            mappingDict[i] = MatchesList[i]\n",
    "        s = s.map(mappingDict)\n",
    "        optimalPath = s.tolist()\n",
    "        print(optimalPath)\n",
    "\n",
    "oneCityTour([\"New Orleans, LA\"],[\"Tank and the Bangas\"])"
   ]
  },
  {
   "cell_type": "markdown",
   "metadata": {},
   "source": [
    "## Multiple cities tour for Vampire Weekend"
   ]
  },
  {
   "cell_type": "code",
   "execution_count": 14,
   "metadata": {},
   "outputs": [],
   "source": [
    "names = [\"Vampire Weekend\"]\n",
    "locations = [\"Chicago, IL\", \"Los Angeles, CA\", \"Boston, MA\", \"Dallas, TX\"]"
   ]
  },
  {
   "cell_type": "code",
   "execution_count": 15,
   "metadata": {
    "scrolled": true
   },
   "outputs": [
    {
     "name": "stdout",
     "output_type": "stream",
     "text": [
      "5356.1241139014655\n",
      "['Rosemont Theatre', 'The Observatory', 'Rodeo West', 'Royale']\n"
     ]
    }
   ],
   "source": [
    "##NEED TO TEST GENRE MATCHES HERE\n",
    "arr = []\n",
    "bestMatchesList = []\n",
    "\n",
    "def multipleCityTours(names, locations):\n",
    "    df = create_df(names)\n",
    "    cities = get_city_id(locations)\n",
    "    cities\n",
    "    for cityID in cities:\n",
    "\n",
    "        sizeDict = output_matching_df(cityID, df).iloc[0]['Size Matches']\n",
    "        bestMatch = max(sizeDict, key=sizeDict.get)\n",
    "        bestMatchesList.append(bestMatch)\n",
    "        venueLat = venue_latLong_info.loc[venue_latLong_info['Venue'] == bestMatch, 'Latitude'].values\n",
    "        venueLng = venue_latLong_info.loc[venue_latLong_info['Venue'] == bestMatch, 'Longitude'].values\n",
    "        venueLat = venueLat[0]\n",
    "        venueLng = venueLng[0]\n",
    "        arr.append([venueLat, venueLng])\n",
    "    sources = np.array(arr)\n",
    "    distance_matrix = great_circle_distance_matrix(sources)\n",
    "    permutation, distance = solve_tsp_dynamic_programming(distance_matrix)\n",
    "    distance = distance/1609\n",
    "    print(distance)\n",
    "    permutation\n",
    "    s = pd.Series(permutation)\n",
    "    mappingDict = {}\n",
    "    for i in range(len(s)):\n",
    "        mappingDict[i] = bestMatchesList[i]\n",
    "    s = s.map(mappingDict)\n",
    "    optimalPath = s.tolist()\n",
    "    print(optimalPath)\n",
    "\n",
    "\n",
    "multipleCityTours(names, locations)"
   ]
  },
  {
   "cell_type": "markdown",
   "metadata": {},
   "source": [
    "## Test Cases"
   ]
  },
  {
   "cell_type": "code",
   "execution_count": 16,
   "metadata": {},
   "outputs": [],
   "source": [
    "def check_genreMatches(locations, names):\n",
    "    cities = get_city_id(locations)\n",
    "    df = create_df(names)\n",
    "    for cityID in cities:\n",
    "        arr = []\n",
    "        MatchesList = []\n",
    "        genreDict = output_matching_df(cityID, df).iloc[0]['Genre Matches']\n",
    "        sizeDict = output_matching_df(cityID, df).iloc[0]['Size Matches']\n",
    "        keys = []\n",
    "        for key in genreDict:\n",
    "            keys.append(key)\n",
    "        for key in sizeDict:\n",
    "            keys.append(key)\n",
    "        return keys\n",
    "    "
   ]
  },
  {
   "cell_type": "code",
   "execution_count": 93,
   "metadata": {},
   "outputs": [
    {
     "name": "stdout",
     "output_type": "stream",
     "text": [
      "Column names are Band Name, Dates, Tour Citites, Actual Venues, Algorithm-determined venues\n",
      "['Scout Bar', 'Smart Financial Centre at Sugar Land', 'Ford Park Event Center', 'Texas A&M University - College Station', 'Humble Arena', 'Salon Lazzeza', \"McGonigel's Mucky Duck\"]\n"
     ]
    },
    {
     "ename": "TypeError",
     "evalue": "unsupported operand type(s) for +: 'int' and 'str'",
     "output_type": "error",
     "traceback": [
      "\u001b[0;31m---------------------------------------------------------------------------\u001b[0m",
      "\u001b[0;31mTypeError\u001b[0m                                 Traceback (most recent call last)",
      "\u001b[0;32m<ipython-input-93-c00605e9df8e>\u001b[0m in \u001b[0;36m<module>\u001b[0;34m\u001b[0m\n\u001b[1;32m     11\u001b[0m         \u001b[0;32melse\u001b[0m\u001b[0;34m:\u001b[0m\u001b[0;34m\u001b[0m\u001b[0;34m\u001b[0m\u001b[0m\n\u001b[1;32m     12\u001b[0m             \u001b[0mvenues\u001b[0m\u001b[0;34m.\u001b[0m\u001b[0mappend\u001b[0m\u001b[0;34m(\u001b[0m\u001b[0mcheck_genreMatches\u001b[0m\u001b[0;34m(\u001b[0m\u001b[0;34m[\u001b[0m\u001b[0mrow\u001b[0m\u001b[0;34m[\u001b[0m\u001b[0;36m2\u001b[0m\u001b[0;34m]\u001b[0m\u001b[0;34m]\u001b[0m\u001b[0;34m,\u001b[0m\u001b[0;34m[\u001b[0m\u001b[0mrow\u001b[0m\u001b[0;34m[\u001b[0m\u001b[0;36m0\u001b[0m\u001b[0;34m]\u001b[0m\u001b[0;34m]\u001b[0m\u001b[0;34m)\u001b[0m\u001b[0;34m)\u001b[0m\u001b[0;34m\u001b[0m\u001b[0;34m\u001b[0m\u001b[0m\n\u001b[0;32m---> 13\u001b[0;31m             \u001b[0mprint\u001b[0m\u001b[0;34m(\u001b[0m\u001b[0mline_count\u001b[0m \u001b[0;34m+\u001b[0m \u001b[0;34m\"Done\"\u001b[0m\u001b[0;34m)\u001b[0m\u001b[0;34m\u001b[0m\u001b[0;34m\u001b[0m\u001b[0m\n\u001b[0m\u001b[1;32m     14\u001b[0m             \u001b[0mline_count\u001b[0m \u001b[0;34m+=\u001b[0m \u001b[0;36m1\u001b[0m\u001b[0;34m\u001b[0m\u001b[0;34m\u001b[0m\u001b[0m\n\u001b[1;32m     15\u001b[0m \u001b[0;34m\u001b[0m\u001b[0m\n",
      "\u001b[0;31mTypeError\u001b[0m: unsupported operand type(s) for +: 'int' and 'str'"
     ]
    }
   ],
   "source": [
    "import os \n",
    "import csv\n",
    "venues = []\n",
    "with open('Tour Comparison-Capstone Tour Planner - Testing CSV.csv') as csv_file:\n",
    "    csv_reader = csv.reader(csv_file, delimiter=',')\n",
    "    line_count = 0\n",
    "    for row in csv_reader:\n",
    "        if line_count == 0:\n",
    "            print(f'Column names are {\", \".join(row)}')\n",
    "            line_count += 1\n",
    "        else:\n",
    "            venues.append(check_genreMatches([row[2]],[row[0]]))   \n",
    "            print(line_count)\n",
    "            line_count += 1\n",
    "\n",
    "with open(\"Tour Comparison-Capstone Tour Planner - Testing CSV.csv\", \"a\") as myfile:\n",
    "    for venue in venues:\n",
    "        myfile.write(venue)"
   ]
  },
  {
   "cell_type": "code",
   "execution_count": 17,
   "metadata": {},
   "outputs": [
    {
     "name": "stdout",
     "output_type": "stream",
     "text": [
      "1\n",
      "2\n",
      "3\n",
      "4\n",
      "5\n",
      "6\n",
      "7\n",
      "8\n",
      "9\n",
      "10\n",
      "11\n",
      "12\n",
      "13\n",
      "14\n",
      "15\n",
      "16\n",
      "17\n",
      "18\n",
      "19\n",
      "20\n",
      "21\n",
      "22\n",
      "23\n",
      "24\n",
      "25\n",
      "26\n",
      "27\n",
      "28\n",
      "29\n",
      "30\n",
      "31\n",
      "32\n",
      "33\n",
      "34\n",
      "35\n",
      "36\n",
      "37\n",
      "38\n",
      "39\n",
      "40\n",
      "41\n",
      "42\n",
      "43\n",
      "44\n",
      "45\n",
      "46\n",
      "47\n",
      "48\n",
      "49\n",
      "50\n",
      "51\n"
     ]
    }
   ],
   "source": [
    "import csv\n",
    "with open('Tour Comparison-Capstone Tour Planner - Testing CSV.csv','r') as csvinput:\n",
    "    with open('output.csv', 'w') as csvoutput:\n",
    "        writer = csv.writer(csvoutput)\n",
    "        line_count = 0\n",
    "\n",
    "        for row in csv.reader(csvinput):\n",
    "            if line_count == 0:\n",
    "                writer.writerow(row)\n",
    "                line_count += 1\n",
    "            else:\n",
    "                writer.writerow(row+[(check_genreMatches([row[2]],[row[0]]))])\n",
    "                print(line_count)\n",
    "                line_count += 1\n"
   ]
  },
  {
   "cell_type": "code",
   "execution_count": 106,
   "metadata": {},
   "outputs": [
    {
     "data": {
      "text/plain": [
       "18842"
      ]
     },
     "execution_count": 106,
     "metadata": {},
     "output_type": "execute_result"
    }
   ],
   "source": [
    "r = requests.get(\"https://api.songkick.com/api/3.0/search/locations.json?query=\" + \"Somerville, MA\" + \"&apikey=\" + str(api_key))\n",
    "cityID = r.json()[\"resultsPage\"][\"results\"][\"location\"][0][\"metroArea\"][\"id\"]\n",
    "cityID"
   ]
  },
  {
   "cell_type": "code",
   "execution_count": null,
   "metadata": {},
   "outputs": [],
   "source": []
  }
 ],
 "metadata": {
  "kernelspec": {
   "display_name": "Python 3",
   "language": "python",
   "name": "python3"
  },
  "language_info": {
   "codemirror_mode": {
    "name": "ipython",
    "version": 3
   },
   "file_extension": ".py",
   "mimetype": "text/x-python",
   "name": "python",
   "nbconvert_exporter": "python",
   "pygments_lexer": "ipython3",
   "version": "3.8.6"
  }
 },
 "nbformat": 4,
 "nbformat_minor": 2
}
